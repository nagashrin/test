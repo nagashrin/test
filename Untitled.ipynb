{
 "cells": [
  {
   "cell_type": "code",
   "execution_count": 4,
   "metadata": {},
   "outputs": [],
   "source": [
    "import matplotlib.pyplot as plt\n",
    "import seaborn as sns\n",
    "import time\n",
    "import math\n",
    "import pandas as pd\n",
    "from datetime import datetime\n",
    "from statistics import mode\n",
    "import numpy as np\n"
   ]
  },
  {
   "cell_type": "code",
   "execution_count": 5,
   "metadata": {},
   "outputs": [],
   "source": [
    "def load_file(city):\n",
    "\n",
    "    data_file_path = 'c:\\\\Users\\\\nnagaraj\\\\Desktop\\\\bike_share\\\\'+city+'.csv'\n",
    "    city_csv_to_df = pd.read_csv(data_file_path)\n",
    "    df = pd.DataFrame(city_csv_to_df)\n",
    "    df.iloc[:,1:3] = df.iloc[:,1:3].apply(pd.to_datetime, errors = 'coerce')\n",
    "    df['Start Day'] = df['Start Time'].dt.weekday_name\n",
    "    df['Start Month'] = df['Start Time'].dt.month\n",
    "    df['Full Trip'] = df[['Start Station', 'End Station']].apply(lambda x: ' to '.join(x), axis = 1)\n",
    "    \n",
    "    return df\n",
    "\n"
   ]
  },
  {
   "cell_type": "code",
   "execution_count": 14,
   "metadata": {},
   "outputs": [],
   "source": [
    "def get_city(firstRequest=True):\n",
    "\n",
    "    if firstRequest:\n",
    "        city = input('\\nHello! Let\\'s explore some US bikeshare data!\\n'\n",
    "                 'Would you like to see data for Chicago, New York, or Washington?\\n')\n",
    "    else:\n",
    "        city = input('\\n Sorry could not process! Please check the spelling\\n')\n",
    "\n",
    "    file_name = ''\n",
    "    if city.lower() == 'new york':\n",
    "        file_name = 'new_york_city'\n",
    "    elif city.lower() == 'washington':\n",
    "        file_name = 'washington'\n",
    "    elif city.lower() == 'chicago':\n",
    "        file_name = 'chicago'\n",
    "    else:\n",
    "        get_city(False)\n",
    "\n",
    "    return file_name    \n",
    "\n",
    "\n",
    "def get_time_period():\n",
    "\n",
    "    i=0\n",
    "    lst = ['month', 'day', 'both', 'none']\n",
    "\n",
    "    while (i<=3):\n",
    "        time_period = input('\\nWould you like to filter the data by Month, Day, Both or None\\n')\n",
    "\n",
    "        if time_period in lst:\n",
    "            print('You have selected {}'.format(time_period))\n",
    "            return time_period\n",
    "        else:\n",
    "            i+=1\n",
    "            if (i==3):\n",
    "                quit = ('\\nDo you want to comeback later? Y/N: ')\n",
    "                if (quit).lower() == 'n':\n",
    "                    i=0\n",
    "                else:\n",
    "                    print('Thank you for visiting! Have a great day!!')\n",
    "                    \n",
    "\n",
    "\n",
    "def get_month():\n",
    "\n",
    "    i =0\n",
    "    lst = [1,2,3,4,5,6]\n",
    "\n",
    "    while (i<=3):\n",
    "\n",
    "        try:\n",
    "            month = int(input('\\nChoose a month as an integer - Nomonth:0, January:1, February:2, March:3, April:4, May:5, June:6\\n'))\n",
    "        except ValueError:\n",
    "            print('\\nPlease enter an integer corresponding to the month\\n')  \n",
    "        else:\n",
    "            if month in lst:\n",
    "                print('You have selected {}'.format(month))\n",
    "                return month\n",
    "            else:\n",
    "                i+=1\n",
    "                if i==3:\n",
    "                    quit = input('\\nDo you want to comeback later? Y/N: ')\n",
    "                    if (quit).lower() == 'n':\n",
    "                        i == 0\n",
    "                    else:\n",
    "                        print(\"Thank you for visiting! Have a great day!!\")\n",
    "                        \n",
    "\n",
    "def get_day():\n",
    "\n",
    "    i=0\n",
    "    lst = ['sunday', 'monday', 'tuesday', 'wednesday', 'thursday', 'friday', 'saturday']\n",
    "\n",
    "\n",
    "    while (i<=3):\n",
    "        day = input('\\nPlease Select a day of the week - Sunday,Monday,Tuesday,Wednesday,Thursday,Friday,Saturday\\n')\n",
    "\n",
    "        if not(day in lst):\n",
    "            i+=1\n",
    "            if (i==3):\n",
    "                quit = input('\\nDo you want to comeback later? Y/N: ')\n",
    "                if (quit).lower == 'n':\n",
    "                    i = 0\n",
    "                else:\n",
    "                    print(\"Thank you for visiting! Have a great day!!\")\n",
    "                    \n",
    "        else:\n",
    "            print('You have selected {}'.format(day))\n",
    "            return day\n",
    "\n",
    "\n"
   ]
  },
  {
   "cell_type": "code",
   "execution_count": 15,
   "metadata": {},
   "outputs": [],
   "source": [
    "def main():\n",
    "    city = get_city()\n",
    "    time_period = get_time_period()\n",
    "    month = get_month()\n",
    "    day = get_day()\n",
    "    print(city, month, day, time_period)\n",
    "    if (len(city) > 0 and len(time_period) > 0 and  month > 0 and len(day) > 0):\n",
    "        get_insights(city, time_period, month, day)"
   ]
  },
  {
   "cell_type": "code",
   "execution_count": 16,
   "metadata": {},
   "outputs": [],
   "source": [
    "def get_insights(city, time_period, month, day):\n",
    "\n",
    "    city_data = load_file(city)\n",
    "    \n",
    "    if (time_period).lower() == 'month':\n",
    "        city_data = city_data.loc[(city_data['Start Month'] == month)]\n",
    "    elif (time_period).lower() == 'day':\n",
    "        city_data = city_data.loc[(city_data['Start Day'] == day)]\n",
    "    elif (time_period).lower() == 'both':\n",
    "        city_data = city_data.loc[(city_data['Start Month'] == month) & (city_data['Start Day']== day)]\n",
    "    elif (time_period).lower() == 'none':\n",
    "        city_data = load_file(city)    \n",
    "        #print('no input recevied, showing new york stats for Sunday, January')\n",
    "   \n",
    "    print('Most Popular Trip for your filter is: {}'.format(city_data['Full Trip'].mode()))\n",
    "    \n",
    "    print('Most Popular Hour for your filter is: {}:00'.format(city_data['Start Time'].dt.hour.mode()))\n",
    "\n",
    "\n",
    "    print('Most Popular Day for your City is: {}'.format(city_data['Start Time'].dt.weekday_name.mode()))\n",
    "\n",
    "  \n",
    "    print('Total Trip Duration for your filter is: {}'.format((city_data['Trip Duration'].cumsum(axis = 0)).iloc[-1]))\n",
    "\n",
    "    \n",
    "    print('Average Trip Duration for your filter is {}'.format((city_data['Trip Duration'].cumsum(axis = 0)).iloc[-1]/(len(city_data['Trip Duration']))))\n",
    "   \n",
    "    \n",
    "    if 'Birth Year' in city_data:\n",
    "        print('Popular Birth Year for your filter is: {}'.format(city_data['Birth Year'].mode()))\n",
    "        print('Youngest person birth year is: {}'.format(city_data['Birth Year'].max()))\n",
    "        print('Oldest person birth year is: {}'.format(city_data['Birth Year'].min()))\n",
    "    else:\n",
    "        print(\"The City data does not include birth year data\")\n",
    "        False\n",
    "\n",
    "    sns.factorplot('User Type', data = city_data, kind='count')\n",
    "    plt.title(\"Customer Vs Subscriber Data\")\n",
    "    ax = plt.gca()\n",
    "    for p in ax.patches:\n",
    "        ax.text(p.get_x() + p.get_width()/2., p.get_height(),'%d' % int(p.get_height()), fontsize=12, ha='center',va='bottom')\n",
    "    plt.show()\n",
    "\n",
    "    \n",
    "    sns.factorplot('Start Day', data=city_data, kind='count', size=8 )\n",
    "    plt.title(\"Ridership for the Days of the Week\")\n",
    "    ax = plt.gca()\n",
    "    for p in ax.patches:\n",
    "        ax.text(p.get_x() + p.get_width()/2., p.get_height(),'%d' % int(p.get_height()), fontsize=12, ha='center',va='bottom')\n",
    "    plt.show()\n",
    "    \n",
    "    if 'Gender' in city_data:\n",
    "        sns.factorplot('Gender', data=city_data, kind='count', size=8 )\n",
    "        plt.title(\"Bike Share Gender Data\")\n",
    "        ax = plt.gca()\n",
    "        for p in ax.patches:\n",
    "            ax.text(p.get_x() + p.get_width()/2., p.get_height(),'%d' % int(p.get_height()), fontsize=12, ha='center',va='bottom')\n",
    "        plt.show()\n",
    "    else:\n",
    "        print(\"The City data does not include Gender data\")\n",
    "        False\n",
    "    \n",
    "    \n",
    "    "
   ]
  },
  {
   "cell_type": "code",
   "execution_count": 17,
   "metadata": {
    "scrolled": false
   },
   "outputs": [
    {
     "name": "stdout",
     "output_type": "stream",
     "text": [
      "\n",
      "Hello! Let's explore some US bikeshare data!\n",
      "Would you like to see data for Chicago, New York, or Washington?\n",
      "new york\n",
      "\n",
      "Would you like to filter the data by Month, Day, Both or None\n",
      "month\n",
      "You have selected month\n",
      "\n",
      "Choose a month as an integer - Nomonth:0, January:1, February:2, March:3, April:4, May:5, June:6\n",
      "1\n",
      "You have selected 1\n",
      "\n",
      "Please Select a day of the week - Sunday,Monday,Tuesday,Wednesday,Thursday,Friday,Saturday\n",
      "sunday\n",
      "You have selected sunday\n",
      "new_york_city 1 sunday month\n",
      "Most Popular Trip for your filter is: 0    E 7 St & Avenue A to Cooper Square & E 7 St\n",
      "dtype: object\n",
      "Most Popular Hour for your filter is: 0    8\n",
      "dtype: int64:00\n",
      "Most Popular Day for your City is: 0    Thursday\n",
      "dtype: object\n",
      "Total Trip Duration for your filter is: 23730278\n",
      "Average Trip Duration for your filter is 744.315852205006\n",
      "Popular Birth Year for your filter is: 0    1985.0\n",
      "dtype: float64\n",
      "Youngest person birth year is: 2000.0\n",
      "Oldest person birth year is: 1885.0\n"
     ]
    },
    {
     "data": {
      "image/png": "[encoded data removed]",
      "text/plain": [
       "<matplotlib.figure.Figure at 0x4ce8940>"
      ]
     },
     "metadata": {},
     "output_type": "display_data"
    },
    {
     "data": {
      "image/png": "[encoded data removed]",
      "text/plain": [
       "<matplotlib.figure.Figure at 0x18e71e48>"
      ]
     },
     "metadata": {},
     "output_type": "display_data"
    },
    {
     "data": {
      "image/png": "[encoded data removed]",
      "text/plain": [
       "<matplotlib.figure.Figure at 0x18a6ee10>"
      ]
     },
     "metadata": {},
     "output_type": "display_data"
    }
   ],
   "source": [
    "main()"
   ]
  },
  {
   "cell_type": "code",
   "execution_count": null,
   "metadata": {},
   "outputs": [
    {
     "name": "stdout",
     "output_type": "stream",
     "text": [
      "\n",
      "Please Select a day of the week - Sunday,Monday,Tuesday,Wednesday,Thursday,Friday,Saturday\n",
      "lskdjf\n",
      "\n",
      "Please Select a day of the week - Sunday,Monday,Tuesday,Wednesday,Thursday,Friday,Saturday\n",
      "ldkfj\n",
      "\n",
      "Please Select a day of the week - Sunday,Monday,Tuesday,Wednesday,Thursday,Friday,Saturday\n",
      "alkdfj\n",
      "\n",
      "Do you want to comeback later? Y/N: N\n",
      "Thank you for visiting! Have a great day!!\n"
     ]
    }
   ],
   "source": [
    "get_day()"
   ]
  },
  {
   "cell_type": "code",
   "execution_count": null,
   "metadata": {},
   "outputs": [],
   "source": []
  }
 ],
 "metadata": {
  "kernelspec": {
   "display_name": "Python 3",
   "language": "python",
   "name": "python3"
  },
  "language_info": {
   "codemirror_mode": {
    "name": "ipython",
    "version": 3
   },
   "file_extension": ".py",
   "mimetype": "text/x-python",
   "name": "python",
   "nbconvert_exporter": "python",
   "pygments_lexer": "ipython3",
   "version": "3.6.4rc1"
  }
 },
 "nbformat": 4,
 "nbformat_minor": 2
}
