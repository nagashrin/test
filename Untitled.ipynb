{
 "cells": [
  {
   "cell_type": "code",
   "execution_count": 27,
   "metadata": {},
   "outputs": [],
   "source": [
    "import matplotlib.pyplot as plt\n",
    "import seaborn as sns\n",
    "import time\n",
    "import math\n",
    "import pandas as pd\n",
    "from datetime import datetime\n",
    "\n",
    "\n",
    "from operator import itemgetter\n",
    "from os import path, system\n",
    "from statistics import mode\n",
    "import numpy as np\n"
   ]
  },
  {
   "cell_type": "code",
   "execution_count": null,
   "metadata": {},
   "outputs": [],
   "source": [
    "new_york_city = pd.read_csv('c:\\\\Users\\\\nnagaraj\\\\Desktop\\\\bike_share\\\\new_york_city.csv')\n",
    "nyc = pd.DataFrame(new_york_city)\n",
    "nyc.iloc[:,1:3] = nyc.iloc[:,1:3].apply(pd.to_datetime, errors = 'coerce')\n",
    "nyc['Start Day'] = nyc['Start Time'].dt.weekday_name\n",
    "nyc['Start Month'] = nyc['Start Time'].dt.month\n",
    "#nyc.head()\n",
    "\n",
    "washington = pd.read_csv('c:\\\\Users\\\\nnagaraj\\\\Desktop\\\\bike_share\\\\washington.csv')\n",
    "washington = pd.DataFrame(new_york_city)\n",
    "washington.iloc[:,1:3] = washington.iloc[:,1:3].apply(pd.to_datetime, errors = 'coerce')\n",
    "washington['Start Day'] = washington['Start Time'].dt.weekday_name\n",
    "washington['Start Month'] = washington['Start Time'].dt.month\n",
    "#washington.head()\n",
    "\n",
    "chicago = pd.read_csv('c:\\\\Users\\\\nnagaraj\\\\Desktop\\\\bike_share\\\\washington.csv')\n",
    "chicago = pd.DataFrame(new_york_city)\n",
    "chicago.iloc[:,1:3] = chicago.iloc[:,1:3].apply(pd.to_datetime, errors = 'coerce')\n",
    "chicago['Start Day'] = chicago['Start Time'].dt.weekday_name\n",
    "chicago['Start Month'] = chicago['Start Time'].dt.month\n",
    "#chicago.head()\n",
    "\n"
   ]
  },
  {
   "cell_type": "code",
   "execution_count": null,
   "metadata": {},
   "outputs": [],
   "source": [
    "def get_city(firstRequest=True):\n",
    "    \n",
    "    if firstRequest:\n",
    "        city = input('\\nHello! Let\\'s explore some US bikeshare data!\\n'\n",
    "                 'Would you like to see data for Chicago, New York, or Washington?\\n')\n",
    "    else:\n",
    "        city = input('\\n Sorry could not process! Please check the spelling\\n')\n",
    "        \n",
    "    file_name = ''\n",
    "    if city.lower() == 'new york':\n",
    "        file_name = new_york_city\n",
    "    elif city.lower() == 'washington':\n",
    "        file_name == washington\n",
    "    elif city.lower() == 'chicago':\n",
    "        file_name == chicago\n",
    "    else:\n",
    "        get_city(False)\n",
    "        \n",
    "    return file_name    \n",
    "\n",
    "\n",
    "def get_time_period(firstRequest=True):\n",
    "    if firstRequest:\n",
    "        time_period = input('\\nWould you like to filter the data by month, day, both or none\\n')\n",
    "    else:\n",
    "        time_period = input('\\nPlease enter the correct filter data by month, day, both or none\\n')\n",
    "        \n",
    "    return time_period \n",
    "        \n",
    "        \n",
    "def get_month(firstRequest=True):\n",
    "    if firstRequest:\n",
    "        month = int(input('\\nChoose a month as an integer - January:1, February:2, March:3, April:4, May:5, June:6\\n'))\n",
    "    else:\n",
    "        month  = int(input('\\nPlease input a number refering the month/n'))\n",
    "    \n",
    "    return month    \n",
    "        \n",
    "        \n",
    "        "
   ]
  },
  {
   "cell_type": "code",
   "execution_count": null,
   "metadata": {},
   "outputs": [],
   "source": [
    "nyc_analysis = nyc.loc[(nyc['Start Month'] ==6) & (nyc['Start Day']=='Sunday')]\n",
    "nyc_analysis.head()"
   ]
  },
  {
   "cell_type": "code",
   "execution_count": null,
   "metadata": {},
   "outputs": [],
   "source": []
  },
  {
   "cell_type": "code",
   "execution_count": null,
   "metadata": {},
   "outputs": [],
   "source": []
  }
 ],
 "metadata": {
  "kernelspec": {
   "display_name": "Python 3",
   "language": "python",
   "name": "python3"
  },
  "language_info": {
   "codemirror_mode": {
    "name": "ipython",
    "version": 3
   },
   "file_extension": ".py",
   "mimetype": "text/x-python",
   "name": "python",
   "nbconvert_exporter": "python",
   "pygments_lexer": "ipython3",
   "version": "3.6.4rc1"
  }
 },
 "nbformat": 4,
 "nbformat_minor": 2
}
