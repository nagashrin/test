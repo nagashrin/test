{
 "cells": [
  {
   "cell_type": "code",
   "execution_count": 224,
   "metadata": {},
   "outputs": [
    {
     "data": {
      "text/html": [
       "<div>\n",
       "<style scoped>\n",
       "    .dataframe tbody tr th:only-of-type {\n",
       "        vertical-align: middle;\n",
       "    }\n",
       "\n",
       "    .dataframe tbody tr th {\n",
       "        vertical-align: top;\n",
       "    }\n",
       "\n",
       "    .dataframe thead th {\n",
       "        text-align: right;\n",
       "    }\n",
       "</style>\n",
       "<table border=\"1\" class=\"dataframe\">\n",
       "  <thead>\n",
       "    <tr style=\"text-align: right;\">\n",
       "      <th></th>\n",
       "      <th>Unnamed: 0</th>\n",
       "      <th>Start Time</th>\n",
       "      <th>End Time</th>\n",
       "      <th>Trip Duration</th>\n",
       "      <th>Start Station</th>\n",
       "      <th>End Station</th>\n",
       "      <th>User Type</th>\n",
       "      <th>Gender</th>\n",
       "      <th>Birth Year</th>\n",
       "      <th>Start Day</th>\n",
       "      <th>Start Month</th>\n",
       "      <th>Start_End Station</th>\n",
       "    </tr>\n",
       "  </thead>\n",
       "  <tbody>\n",
       "    <tr>\n",
       "      <th>0</th>\n",
       "      <td>5688089</td>\n",
       "      <td>2017-06-11 14:55:05</td>\n",
       "      <td>2017-06-11 15:08:21</td>\n",
       "      <td>795</td>\n",
       "      <td>Suffolk St &amp; Stanton St</td>\n",
       "      <td>W Broadway &amp; Spring St</td>\n",
       "      <td>Subscriber</td>\n",
       "      <td>Male</td>\n",
       "      <td>1998.0</td>\n",
       "      <td>Sunday</td>\n",
       "      <td>6</td>\n",
       "      <td>Suffolk St &amp; Stanton St to W Broadway &amp; Spring St</td>\n",
       "    </tr>\n",
       "    <tr>\n",
       "      <th>1</th>\n",
       "      <td>4096714</td>\n",
       "      <td>2017-05-11 15:30:11</td>\n",
       "      <td>2017-05-11 15:41:43</td>\n",
       "      <td>692</td>\n",
       "      <td>Lexington Ave &amp; E 63 St</td>\n",
       "      <td>1 Ave &amp; E 78 St</td>\n",
       "      <td>Subscriber</td>\n",
       "      <td>Male</td>\n",
       "      <td>1981.0</td>\n",
       "      <td>Thursday</td>\n",
       "      <td>5</td>\n",
       "      <td>Lexington Ave &amp; E 63 St to 1 Ave &amp; E 78 St</td>\n",
       "    </tr>\n",
       "    <tr>\n",
       "      <th>2</th>\n",
       "      <td>2173887</td>\n",
       "      <td>2017-03-29 13:26:26</td>\n",
       "      <td>2017-03-29 13:48:31</td>\n",
       "      <td>1325</td>\n",
       "      <td>1 Pl &amp; Clinton St</td>\n",
       "      <td>Henry St &amp; Degraw St</td>\n",
       "      <td>Subscriber</td>\n",
       "      <td>Male</td>\n",
       "      <td>1987.0</td>\n",
       "      <td>Wednesday</td>\n",
       "      <td>3</td>\n",
       "      <td>1 Pl &amp; Clinton St to Henry St &amp; Degraw St</td>\n",
       "    </tr>\n",
       "    <tr>\n",
       "      <th>3</th>\n",
       "      <td>3945638</td>\n",
       "      <td>2017-05-08 19:47:18</td>\n",
       "      <td>2017-05-08 19:59:01</td>\n",
       "      <td>703</td>\n",
       "      <td>Barrow St &amp; Hudson St</td>\n",
       "      <td>W 20 St &amp; 8 Ave</td>\n",
       "      <td>Subscriber</td>\n",
       "      <td>Female</td>\n",
       "      <td>1986.0</td>\n",
       "      <td>Monday</td>\n",
       "      <td>5</td>\n",
       "      <td>Barrow St &amp; Hudson St to W 20 St &amp; 8 Ave</td>\n",
       "    </tr>\n",
       "    <tr>\n",
       "      <th>4</th>\n",
       "      <td>6208972</td>\n",
       "      <td>2017-06-21 07:49:16</td>\n",
       "      <td>2017-06-21 07:54:46</td>\n",
       "      <td>329</td>\n",
       "      <td>1 Ave &amp; E 44 St</td>\n",
       "      <td>E 53 St &amp; 3 Ave</td>\n",
       "      <td>Subscriber</td>\n",
       "      <td>Male</td>\n",
       "      <td>1992.0</td>\n",
       "      <td>Wednesday</td>\n",
       "      <td>6</td>\n",
       "      <td>1 Ave &amp; E 44 St to E 53 St &amp; 3 Ave</td>\n",
       "    </tr>\n",
       "  </tbody>\n",
       "</table>\n",
       "</div>"
      ],
      "text/plain": [
       "   Unnamed: 0          Start Time            End Time  Trip Duration  \\\n",
       "0     5688089 2017-06-11 14:55:05 2017-06-11 15:08:21            795   \n",
       "1     4096714 2017-05-11 15:30:11 2017-05-11 15:41:43            692   \n",
       "2     2173887 2017-03-29 13:26:26 2017-03-29 13:48:31           1325   \n",
       "3     3945638 2017-05-08 19:47:18 2017-05-08 19:59:01            703   \n",
       "4     6208972 2017-06-21 07:49:16 2017-06-21 07:54:46            329   \n",
       "\n",
       "             Start Station             End Station   User Type  Gender  \\\n",
       "0  Suffolk St & Stanton St  W Broadway & Spring St  Subscriber    Male   \n",
       "1  Lexington Ave & E 63 St         1 Ave & E 78 St  Subscriber    Male   \n",
       "2        1 Pl & Clinton St    Henry St & Degraw St  Subscriber    Male   \n",
       "3    Barrow St & Hudson St         W 20 St & 8 Ave  Subscriber  Female   \n",
       "4          1 Ave & E 44 St         E 53 St & 3 Ave  Subscriber    Male   \n",
       "\n",
       "   Birth Year  Start Day  Start Month  \\\n",
       "0      1998.0     Sunday            6   \n",
       "1      1981.0   Thursday            5   \n",
       "2      1987.0  Wednesday            3   \n",
       "3      1986.0     Monday            5   \n",
       "4      1992.0  Wednesday            6   \n",
       "\n",
       "                                   Start_End Station  \n",
       "0  Suffolk St & Stanton St to W Broadway & Spring St  \n",
       "1         Lexington Ave & E 63 St to 1 Ave & E 78 St  \n",
       "2          1 Pl & Clinton St to Henry St & Degraw St  \n",
       "3           Barrow St & Hudson St to W 20 St & 8 Ave  \n",
       "4                 1 Ave & E 44 St to E 53 St & 3 Ave  "
      ]
     },
     "execution_count": 224,
     "metadata": {},
     "output_type": "execute_result"
    }
   ],
   "source": [
    "import pandas as pd\n",
    "import matplotlib.pyplot as plt\n",
    "import seaborn as sns\n",
    "import numpy as np\n",
    "%matplotlib inline\n",
    "new_york_city = pd.read_csv(\"/Users/nagashrinagaraj/Downloads/bikeshare/new_york_city.csv\")\n",
    "nyc = pd.DataFrame(new_york_city)\n",
    "nyc.iloc[:,1:3] = nyc.iloc[:,1:3].apply(pd.to_datetime, errors = 'coerce')\n",
    "nyc['Start Day'] = nyc['Start Time'].dt.weekday_name\n",
    "nyc['Start Month'] = nyc['Start Time'].dt.month\n",
    "nyc['Start_End Station'] = nyc[['Start Station', 'End Station']].apply(lambda x: ' to '.join(x), axis = 1)\n",
    "nyc.head()\n",
    "\n",
    "\n"
   ]
  },
  {
   "cell_type": "code",
   "execution_count": 190,
   "metadata": {},
   "outputs": [],
   "source": [
    "\n",
    "\n",
    "def day_of_week(day):\n",
    "    lst = ['sunday', 'monday', 'tuesday', 'wednesday', 'thursday', 'friday','saturday', 'none']\n",
    "    if not (day in lst):\n",
    "        print(\"please try again\")\n",
    "        return -1\n",
    "    else:\n",
    "        print('You have selected {}'.format(day))\n",
    "        return 1 \n",
    "\n",
    "def get_city(firstRequest=True):\n",
    "\n",
    "    if firstRequest:\n",
    "        city = input('\\nHello! Let\\'s explore some US bikeshare data!\\n'\n",
    "                 'Would you like to see data for Chicago, New York, or Washington?\\n')\n",
    "    else:\n",
    "        city = input('\\n Sorry could not process! Please check the spelling\\n')\n",
    "        \n",
    "    file_name = ''\n",
    "    return city\n",
    "'''\n",
    "    if city.lower() == 'new york':\n",
    "        file_name = new_york_city\n",
    "    elif city.lower() == 'washington':\n",
    "        file_name == washington\n",
    "    elif city.lower() == 'chicago':\n",
    "        file_name == chicago\n",
    "    else:\n",
    "        get_city(False)\n",
    "        \n",
    "    return file_name    \n",
    "'''\n",
    "\n",
    "def get_time_period(firstRequest=True):\n",
    "    time_period = ''\n",
    "    if firstRequest:\n",
    "        time_period = input('\\nWould you like to filter the data by month or day\\n')\n",
    "    else:\n",
    "        time_period = input('\\nPlease enter the correct filter data by month or day\\n')\n",
    "\n",
    "    return time_period \n",
    "\n",
    "\n",
    "def get_month(firstRequest=True):\n",
    "    if firstRequest:\n",
    "        month = input('\\nSelect a month as an integer - January:1, February:2, March:3, April:4, May:5, June:6\\n')\n",
    "    else:\n",
    "        month  = input('\\nPlease input a number refering the month/n')\n",
    "    return month\n",
    "\n",
    "\n",
    "\n",
    "def get_day():\n",
    "\n",
    "    i = 0\n",
    "    lst = ['sunday', 'monday', 'tuesday', 'wednesday', 'thursday', 'friday','saturday']\n",
    "\n",
    "    while (i <= 3):\n",
    "        i += 1\n",
    "        day = ''\n",
    "        day = input('\\nPlease Select a day of the week - sunday, monday,tuesday,wednesday,thursday,friday,saturday)\\n')\n",
    "        \n",
    "        if not (day in lst):\n",
    "            if (i == 3):\n",
    "                quit = input('\\nDo you want to come back later? Y/N \\n')\n",
    "                if quit =='N':\n",
    "                    i = 0\n",
    "                else:\n",
    "                    return ''\n",
    "        else:\n",
    "            print('You have selected {}'.format(day))\n",
    "            return day"
   ]
  },
  {
   "cell_type": "code",
   "execution_count": 227,
   "metadata": {},
   "outputs": [],
   "source": [
    "def main():\n",
    "    city = get_city()\n",
    "    day = get_day()\n",
    "    mon = int(get_month())\n",
    "    #time_period = get_time_period()\n",
    "    #if len(city) > 0 and len(day) > 0 and month > 0: #and len(time_period) > 0:\n",
    "    if city == 'new york':\n",
    "        new_york_city = pd.read_csv(\"/Users/nagashrinagaraj/Downloads/bikeshare/new_york_city.csv\")\n",
    "        nyc = pd.DataFrame(new_york_city)\n",
    "        nyc.iloc[:,1:3] = nyc.iloc[:,1:3].apply(pd.to_datetime, errors = 'coerce')\n",
    "        nyc['Start Day'] = nyc['Start Time'].dt.weekday_name\n",
    "        nyc['Start Month'] = nyc['Start Time'].dt.month\n",
    "        city_analysis = nyc.loc[nyc['Start Month'] == mon] #& (nyc['Start Day']== day)]\n",
    "        \n",
    "        Total_Trip_Duration = (city_analysis['Trip Duration'].cumsum(axis = 0)).iloc[-1]\n",
    "        print('Total_Trip_Duration for your filter is {}'.format(Total_Trip_Duration))\n",
    "        \n",
    "        Average_Trip_Duration = Total_Trip_Duration/len(city_analysis['Trip Duration'])\n",
    "        print('Average Trip Duration for your filter is {}'.format(Average_Trip_Duration))\n",
    "        \n",
    "        #Popular_Trip = city_analysis['Start_End Station'].mode()\n",
    "        #print('Popular Trip for your filter is {}'.format(Popular_Trip))\n",
    "        \n",
    "        sns.factorplot('User Type', data = city_analysis, kind='count')\n",
    "        \n",
    "        sns.factorplot('Start Day', data=nyc, kind='count', size=8 )\n",
    "        ax = plt.gca()\n",
    "\n",
    "        for p in ax.patches:\n",
    "            ax.text(p.get_x() + p.get_width()/2., p.get_height(),'%d' % int(p.get_height()), fontsize=12, ha='center',va='bottom')\n",
    "        plt.show()\n",
    "        \n",
    "        city_analysis.head()\n",
    "        #return 1"
   ]
  },
  {
   "cell_type": "code",
   "execution_count": 230,
   "metadata": {},
   "outputs": [
    {
     "name": "stdout",
     "output_type": "stream",
     "text": [
      "\n",
      "Hello! Let's explore some US bikeshare data!\n",
      "Would you like to see data for Chicago, New York, or Washington?\n",
      "new york\n",
      "\n",
      "Please Select a day of the week - sunday, monday,tuesday,wednesday,thursday,friday,saturday)\n",
      "sunday\n",
      "You have selected sunday\n",
      "\n",
      "Select a month as an integer - January:1, February:2, March:3, April:4, May:5, June:6\n",
      "1\n",
      "1\n",
      "Total_Trip_Duration for your filter is 23730278\n",
      "Average Trip Duration for your filter is 744.315852205006\n"
     ]
    },
    {
     "data": {
      "image/png": "[encoded data removed]",
      "text/plain": [
       "<Figure size 288x288 with 1 Axes>"
      ]
     },
     "metadata": {},
     "output_type": "display_data"
    },
    {
     "data": {
      "image/png": "[encoded data removed]",
      "text/plain": [
       "<Figure size 576x576 with 1 Axes>"
      ]
     },
     "metadata": {},
     "output_type": "display_data"
    }
   ],
   "source": [
    "main()"
   ]
  },
  {
   "cell_type": "code",
   "execution_count": 111,
   "metadata": {},
   "outputs": [
    {
     "data": {
      "text/plain": [
       "'hg'"
      ]
     },
     "execution_count": 111,
     "metadata": {},
     "output_type": "execute_result"
    }
   ],
   "source": [
    "day"
   ]
  },
  {
   "cell_type": "code",
   "execution_count": 81,
   "metadata": {},
   "outputs": [
    {
     "name": "stdout",
     "output_type": "stream",
     "text": [
      "\n",
      "Select a day of the week\n",
      "sunday\n",
      "You have selected sunday\n"
     ]
    },
    {
     "data": {
      "text/plain": [
       "'sunday'"
      ]
     },
     "execution_count": 81,
     "metadata": {},
     "output_type": "execute_result"
    }
   ],
   "source": [
    "get_day()"
   ]
  },
  {
   "cell_type": "code",
   "execution_count": null,
   "metadata": {},
   "outputs": [],
   "source": []
  },
  {
   "cell_type": "code",
   "execution_count": 46,
   "metadata": {},
   "outputs": [],
   "source": [
    "day_of_week"
   ]
  },
  {
   "cell_type": "code",
   "execution_count": null,
   "metadata": {},
   "outputs": [],
   "source": []
  }
 ],
 "metadata": {
  "kernelspec": {
   "display_name": "Python 3",
   "language": "python",
   "name": "python3"
  },
  "language_info": {
   "codemirror_mode": {
    "name": "ipython",
    "version": 3
   },
   "file_extension": ".py",
   "mimetype": "text/x-python",
   "name": "python",
   "nbconvert_exporter": "python",
   "pygments_lexer": "ipython3",
   "version": "3.5.1"
  }
 },
 "nbformat": 4,
 "nbformat_minor": 2
}
