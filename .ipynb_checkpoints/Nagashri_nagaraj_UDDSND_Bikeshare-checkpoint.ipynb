{
 "cells": [
  {
   "cell_type": "code",
   "execution_count": 30,
   "metadata": {},
   "outputs": [],
   "source": [
    "# import modules and system\n",
    "\n",
    "import matplotlib.pyplot as plt\n",
    "import seaborn as sns\n",
    "import time\n",
    "import math\n",
    "import pandas as pd\n",
    "from datetime import datetime\n",
    "from statistics import mode\n",
    "import numpy as np\n",
    "import os\n",
    "import fnmatch\n",
    "PATH = os.getcwd() + \"/data/\""
   ]
  },
  {
   "cell_type": "code",
   "execution_count": 119,
   "metadata": {},
   "outputs": [],
   "source": [
    "# get the .csv file from the directory\n",
    "\n",
    "def get_csv_file(city):\n",
    "    for file in os.listdir(PATH):\n",
    "        if fnmatch.fnmatch(file, city + '.csv'): return 1\n",
    "        \n",
    "    "
   ]
  },
  {
   "cell_type": "code",
   "execution_count": 73,
   "metadata": {},
   "outputs": [],
   "source": [
    "# Convert .csv file to pandas dataframe\n",
    "# Insert columns: Start Day, Start Month & Full Trip \n",
    "\n",
    "def load_file(city):\n",
    "    \n",
    "    data_file_found = get_csv_file(city)\n",
    "    \n",
    "    if data_file_found > 0:\n",
    "        data_file_path = PATH+city+\".csv\"\n",
    "        city_csv_to_df = pd.read_csv(data_file_path)\n",
    "        df = pd.DataFrame(city_csv_to_df)\n",
    "        df.iloc[:,1:3] = df.iloc[:,1:3].apply(pd.to_datetime, errors = 'coerce')\n",
    "        df['Start Day'] = df['Start Time'].dt.weekday_name\n",
    "        df['Start Month'] = df['Start Time'].dt.month\n",
    "        df['Full Trip'] = df[['Start Station', 'End Station']].apply(lambda x: ' to '.join(x), axis = 1)\n",
    "        return df\n",
    "    else:\n",
    "        print(\"We currently do not have data for the city that you requested\")\n",
    "        return -1"
   ]
  },
  {
   "cell_type": "code",
   "execution_count": 74,
   "metadata": {},
   "outputs": [],
   "source": [
    "# Ask user for the city. If the input does not match the list of cities, a quit option is given after 3 failed attempts.\n",
    "def get_city():\n",
    "    \n",
    "    i = 0\n",
    "    lst = ['chicago', 'new york', 'washington']\n",
    "    \n",
    "    print(\"Hello! Let's explore some US bikeshare data!\")\n",
    "    \n",
    "    while (i <=3):\n",
    "        i += 1\n",
    "        city = input('Please select from the following cities: Chicago, New York, or Washington?\\n')\n",
    "        \n",
    "        if not (city.lower() in lst):\n",
    "            print('\\nSorry could not process!! Please check the spelling and try again\\n ')\n",
    "            if (i == 3):\n",
    "                quit = input('\\nDo you want to comeback later? Y/N: \\n')\n",
    "                if quit.lower() == 'n':\n",
    "                    i = 0\n",
    "                else:\n",
    "                    print('Thank you for visiting! Have a great day!!')\n",
    "                    break\n",
    "        else:\n",
    "            print('You have selected {}'.format(city))\n",
    "            break\n",
    "        \n",
    "    return city  \n",
    "\n",
    " \n",
    "# Ask user for the time period. If the input does not match the list of time period, a quit option is given after 3 failed attempts.\n",
    "def get_time_period():\n",
    "    i=0\n",
    "    lst = ['month', 'day', 'both', 'none']\n",
    "\n",
    "    while (i<=3):\n",
    "        i += 1\n",
    "        time_period = input('\\nWould you like to filter the data by Month, Day, Both or None\\n')\n",
    "\n",
    "        if not ((time_period.lower())in lst):\n",
    "            if (i == 3):\n",
    "                quit = input('\\nDo you want to comeback later? Y/N: ')\n",
    "                if (quit).lower() == 'n':\n",
    "                    i = 0\n",
    "                else:\n",
    "                    print('Thank you for visiting! Have a great day!!')\n",
    "                    return time_period\n",
    "                \n",
    "        else:\n",
    "            print('You have selected {}'.format(time_period))\n",
    "            return time_period\n",
    "\n",
    "\n",
    "# Ask user for the month. If the input does not match the list of months, a quit option is given after 3 failed attempts.        \n",
    "def get_month():\n",
    "\n",
    "    i =0\n",
    "    lst = [1,2,3,4,5,6]\n",
    "\n",
    "    while (i<=3):\n",
    "        i += 1\n",
    "\n",
    "        try:\n",
    "            month = int(input('\\nChoose a month as an integer - January:1, February:2, March:3, April:4, May:5, June:6\\n'))\n",
    "        except ValueError:\n",
    "            print('\\nPlease enter an integer corresponding to the month\\n')  \n",
    "        else:\n",
    "            if not (month in lst):\n",
    "                if (i == 3):\n",
    "                    quit = input('\\nDo you want to come back later? Y/N: ')\n",
    "                    if (quit).lower() == 'n':\n",
    "                        i=0\n",
    "                    else:\n",
    "                        print(\"Thank you for visiting! Have a great day!!\")\n",
    "                        return month\n",
    "                    \n",
    "            else:\n",
    "                print('You have selected {}'.format(month))\n",
    "                return month\n",
    "                    \n",
    "        \n",
    "        \n",
    "# Ask user for the day. If the input does not match the list of day, a quit option is given after 3 failed attempts.\n",
    "def get_day():\n",
    "    i=0\n",
    "    lst = ['sunday', 'monday', 'tuesday', 'wednesday', 'thursday', 'friday', 'saturday']\n",
    "\n",
    "\n",
    "    while (i<=3):\n",
    "        i+=1\n",
    "        day = input('\\nPlease Select a day of the week - Sunday,Monday,Tuesday,Wednesday,Thursday,Friday,Saturday\\n')\n",
    "\n",
    "        if not((day.lower()) in lst):\n",
    "            if (i == 3):\n",
    "                quit = input('\\nDo you want to comeback later? Y/N: ')\n",
    "                if (quit).lower() == 'n':\n",
    "                    i = 0\n",
    "                else:\n",
    "                    print(\"Thank you for visiting! Have a great day!!\")\n",
    "                    return day\n",
    "                    \n",
    "        else:\n",
    "            print('You have selected {}'.format(day))\n",
    "            return day\n",
    "\n",
    "\n"
   ]
  },
  {
   "cell_type": "code",
   "execution_count": 75,
   "metadata": {},
   "outputs": [],
   "source": [
    "def main():\n",
    "    city = get_city()\n",
    "    time_period = get_time_period()\n",
    "    month = (get_month())\n",
    "    day = get_day()\n",
    "    if (len(city) > 0 and len(time_period) > 0 and  month > 0 and len(day) > 0):\n",
    "        city_data = get_insights(city, time_period, month, day)\n",
    "        show_data_points_non_visual(city_data)\n",
    "        quit = input('\\nDo you want to check out some cool charts? Y/N: ')\n",
    "        if quit.lower() == 'n':\n",
    "            print(\"Thanks for visiting us\")\n",
    "        else:\n",
    "            show_bikeshare_charts(city_data)"
   ]
  },
  {
   "cell_type": "code",
   "execution_count": 76,
   "metadata": {},
   "outputs": [],
   "source": [
    "def get_insights(city, time_period, month, day):\n",
    "    \n",
    "    if city == \"new york\":\n",
    "        city=\"new_york_city\"\n",
    " \n",
    "    city_data = load_file(city)\n",
    "    \n",
    "    if (time_period).lower() == 'month':\n",
    "        city_data = city_data.loc[(city_data['Start Month'] == month)]\n",
    "    elif (time_period).lower() == 'day':\n",
    "        city_data = city_data.loc[(city_data['Start Day'] == day)]\n",
    "    elif (time_period).lower() == 'both':\n",
    "        city_data = city_data.loc[(city_data['Start Month'] == month) & (city_data['Start Day']== day)]\n",
    "    elif (time_period).lower() == 'none':\n",
    "        city_data = load_file(city)\n",
    "    return city_data"
   ]
  },
  {
   "cell_type": "code",
   "execution_count": 77,
   "metadata": {},
   "outputs": [],
   "source": [
    "# Stats\n",
    "def show_data_points_non_visual(city_data):\n",
    "    \n",
    "    #city_data = get_insights(city, time_period, month, day)\n",
    "   \n",
    "    # Print Data Analysis\n",
    "    print('Most Popular Trip for your filter is: {}'.format(city_data['Full Trip'].mode()))   \n",
    "    print('Most Popular Hour for your filter is: {}:00'.format(city_data['Start Time'].dt.hour.mode()))\n",
    "    print('Most Popular Day for your City is: {}'.format(city_data['Start Time'].dt.weekday_name.mode()))  \n",
    "    print('Total Trip Duration for your filter is: {}'.format((city_data['Trip Duration'].cumsum(axis = 0)).iloc[-1]))    \n",
    "    print('Average Trip Duration for your filter is {}'.format((city_data['Trip Duration'].cumsum(axis = 0)).iloc[-1]/(len(city_data['Trip Duration']))))\n",
    "   \n",
    "    if 'Birth Year' in city_data:\n",
    "        print('Popular Birth Year for your filter is: {}'.format(city_data['Birth Year'].mode()))\n",
    "        print('Youngest person birth year is: {}'.format(city_data['Birth Year'].max()))\n",
    "        print('Oldest person birth year is: {}'.format(city_data['Birth Year'].min()))\n",
    "    else:\n",
    "        print(\"The City data does not include birth year data\")\n",
    "    return 1"
   ]
  },
  {
   "cell_type": "code",
   "execution_count": 78,
   "metadata": {},
   "outputs": [],
   "source": [
    "# Visualizations\n",
    "def show_bikeshare_charts(city_data):\n",
    "\n",
    "    # Following visualizations will be generated for the cities which has data of Birth Year \n",
    "\n",
    "    # Bar chart for the User Type of the city\n",
    "    sns.factorplot('User Type', data = city_data, kind='count')\n",
    "    plt.xlabel('User Type', fontsize=14)\n",
    "    plt.title(\"Customer Vs Subscriber Data\",fontsize=16)\n",
    "    ax = plt.gca()\n",
    "    ax.axes.get_yaxis().set_visible(False)\n",
    "    for p in ax.patches:\n",
    "        ax.text(p.get_x() + p.get_width()/2., p.get_height(),'%d' % int(p.get_height()), fontsize=12, ha='center',va='bottom')\n",
    "    plt.show()\n",
    "\n",
    "    # Pie chart for User Type of the city\n",
    "    city_data['User Type'].value_counts().plot(kind='pie', autopct='%1.1%%f')\n",
    "    plt.axis('equal')\n",
    "    plt.title('User Type',fontsize=16)\n",
    "\n",
    "    # Ridership for the Days of the Week\n",
    "    sns.factorplot('Start Day', data=city_data, kind='count',order=['Sunday','Monday','Tuesday', 'Wednesday', 'Thursday', 'Friday', 'Saturday'], size=8 )\n",
    "    plt.xlabel('Weekday', fontsize=14)\n",
    "    plt.title(\"Ridership for the Days of the Week\",fontsize=16)\n",
    "    ax = plt.gca()\n",
    "    ax.axes.get_yaxis().set_visible(False)\n",
    "    for p in ax.patches:\n",
    "        ax.text(p.get_x() + p.get_width()/2., p.get_height(),'%d' % int(p.get_height()), fontsize=12, ha='center',va='bottom')\n",
    "    plt.show()\n",
    "\n",
    "    # Following visualization will be generated for the cities which has data for Gender\n",
    "    if 'Gender' in city_data:\n",
    "        sns.factorplot('Gender', data=city_data, kind='count', size=8 )\n",
    "        plt.xlabel('Gender', fontsize=14)\n",
    "        plt.title(\"Bike Share Gender Data\", fontsize=16)\n",
    "        ax = plt.gca()\n",
    "        ax.axes.get_yaxis().set_visible(False)\n",
    "        for p in ax.patches:\n",
    "            ax.text(p.get_x() + p.get_width()/2., p.get_height(),'%d' % int(p.get_height()), fontsize=12, ha='center',va='bottom')\n",
    "        plt.show()\n"
   ]
  },
  {
   "cell_type": "code",
   "execution_count": 85,
   "metadata": {
    "scrolled": false
   },
   "outputs": [
    {
     "name": "stdout",
     "output_type": "stream",
     "text": [
      "Hello! Let's explore some US bikeshare data!\n",
      "Please select from the following cities: Chicago, New York, or Washington?\n",
      "new york\n",
      "You have selected new york\n",
      "\n",
      "Would you like to filter the data by Month, Day, Both or None\n",
      "month\n",
      "You have selected month\n",
      "\n",
      "Choose a month as an integer - January:1, February:2, March:3, April:4, May:5, June:6\n",
      "4\n",
      "You have selected 4\n",
      "\n",
      "Please Select a day of the week - Sunday,Monday,Tuesday,Wednesday,Thursday,Friday,Saturday\n",
      "sunday\n",
      "You have selected sunday\n",
      "C:\\test/data/new_york_city.csv\n",
      "Most Popular Trip for your filter is: 0    Central Park S & 6 Ave to Central Park S & 6 Ave\n",
      "dtype: object\n",
      "Most Popular Hour for your filter is: 0    17\n",
      "dtype: int64:00\n",
      "Most Popular Day for your City is: 0    Sunday\n",
      "dtype: object\n",
      "Total Trip Duration for your filter is: 55581856\n",
      "Average Trip Duration for your filter is 955.4086908690869\n",
      "Popular Birth Year for your filter is: 0    1985.0\n",
      "dtype: float64\n",
      "Youngest person birth year is: 2001.0\n",
      "Oldest person birth year is: 1885.0\n",
      "\n",
      "Do you want to check out some cool charts? Y/N: y\n"
     ]
    },
    {
     "data": {
      "image/png": "[encoded data removed]",
      "text/plain": [
       "<matplotlib.figure.Figure at 0x186ca0b8>"
      ]
     },
     "metadata": {},
     "output_type": "display_data"
    },
    {
     "data": {
      "image/png": "[encoded data removed]",
      "text/plain": [
       "<matplotlib.figure.Figure at 0x186ca9b0>"
      ]
     },
     "metadata": {},
     "output_type": "display_data"
    },
    {
     "data": {
      "image/png": "[encoded data removed]",
      "text/plain": [
       "<matplotlib.figure.Figure at 0x1a5da0f0>"
      ]
     },
     "metadata": {},
     "output_type": "display_data"
    },
    {
     "data": {
      "image/png": "[encoded data removed]",
      "text/plain": [
       "<matplotlib.figure.Figure at 0x1de66320>"
      ]
     },
     "metadata": {},
     "output_type": "display_data"
    }
   ],
   "source": [
    "main()"
   ]
  }
 ],
 "metadata": {
  "kernelspec": {
   "display_name": "Python 3",
   "language": "python",
   "name": "python3"
  },
  "language_info": {
   "codemirror_mode": {
    "name": "ipython",
    "version": 3
   },
   "file_extension": ".py",
   "mimetype": "text/x-python",
   "name": "python",
   "nbconvert_exporter": "python",
   "pygments_lexer": "ipython3",
   "version": "3.6.4rc1"
  }
 },
 "nbformat": 4,
 "nbformat_minor": 2
}
