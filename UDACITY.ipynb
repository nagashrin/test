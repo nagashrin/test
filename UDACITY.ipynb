{
 "cells": [
  {
   "cell_type": "code",
   "execution_count": 8,
   "metadata": {},
   "outputs": [
    {
     "data": {
      "text/html": [
       "<div>\n",
       "<style scoped>\n",
       "    .dataframe tbody tr th:only-of-type {\n",
       "        vertical-align: middle;\n",
       "    }\n",
       "\n",
       "    .dataframe tbody tr th {\n",
       "        vertical-align: top;\n",
       "    }\n",
       "\n",
       "    .dataframe thead th {\n",
       "        text-align: right;\n",
       "    }\n",
       "</style>\n",
       "<table border=\"1\" class=\"dataframe\">\n",
       "  <thead>\n",
       "    <tr style=\"text-align: right;\">\n",
       "      <th></th>\n",
       "      <th>30 Year Moving Average</th>\n",
       "      <th>Unnamed: 1</th>\n",
       "      <th>Unnamed: 2</th>\n",
       "    </tr>\n",
       "  </thead>\n",
       "  <tbody>\n",
       "    <tr>\n",
       "      <th>0</th>\n",
       "      <td>year</td>\n",
       "      <td>MA Global</td>\n",
       "      <td>MA Memphis</td>\n",
       "    </tr>\n",
       "    <tr>\n",
       "      <th>1</th>\n",
       "      <td>1779</td>\n",
       "      <td>8.14</td>\n",
       "      <td>15.28</td>\n",
       "    </tr>\n",
       "    <tr>\n",
       "      <th>2</th>\n",
       "      <td>1780</td>\n",
       "      <td>8.16</td>\n",
       "      <td>15.09</td>\n",
       "    </tr>\n",
       "    <tr>\n",
       "      <th>3</th>\n",
       "      <td>1781</td>\n",
       "      <td>8.16</td>\n",
       "      <td>15.05</td>\n",
       "    </tr>\n",
       "    <tr>\n",
       "      <th>4</th>\n",
       "      <td>1782</td>\n",
       "      <td>8.24</td>\n",
       "      <td>15.22</td>\n",
       "    </tr>\n",
       "    <tr>\n",
       "      <th>5</th>\n",
       "      <td>1783</td>\n",
       "      <td>8.21</td>\n",
       "      <td>15.20</td>\n",
       "    </tr>\n",
       "    <tr>\n",
       "      <th>6</th>\n",
       "      <td>1784</td>\n",
       "      <td>8.19</td>\n",
       "      <td>15.18</td>\n",
       "    </tr>\n",
       "    <tr>\n",
       "      <th>7</th>\n",
       "      <td>1785</td>\n",
       "      <td>8.16</td>\n",
       "      <td>15.23</td>\n",
       "    </tr>\n",
       "    <tr>\n",
       "      <th>8</th>\n",
       "      <td>1786</td>\n",
       "      <td>8.14</td>\n",
       "      <td>15.22</td>\n",
       "    </tr>\n",
       "    <tr>\n",
       "      <th>9</th>\n",
       "      <td>1787</td>\n",
       "      <td>8.11</td>\n",
       "      <td>15.22</td>\n",
       "    </tr>\n",
       "    <tr>\n",
       "      <th>10</th>\n",
       "      <td>1788</td>\n",
       "      <td>8.16</td>\n",
       "      <td>15.28</td>\n",
       "    </tr>\n",
       "    <tr>\n",
       "      <th>11</th>\n",
       "      <td>1789</td>\n",
       "      <td>8.17</td>\n",
       "      <td>15.29</td>\n",
       "    </tr>\n",
       "    <tr>\n",
       "      <th>12</th>\n",
       "      <td>1790</td>\n",
       "      <td>8.20</td>\n",
       "      <td>15.35</td>\n",
       "    </tr>\n",
       "    <tr>\n",
       "      <th>13</th>\n",
       "      <td>1791</td>\n",
       "      <td>8.18</td>\n",
       "      <td>15.34</td>\n",
       "    </tr>\n",
       "    <tr>\n",
       "      <th>14</th>\n",
       "      <td>1792</td>\n",
       "      <td>8.16</td>\n",
       "      <td>15.33</td>\n",
       "    </tr>\n",
       "    <tr>\n",
       "      <th>15</th>\n",
       "      <td>1793</td>\n",
       "      <td>8.19</td>\n",
       "      <td>15.40</td>\n",
       "    </tr>\n",
       "    <tr>\n",
       "      <th>16</th>\n",
       "      <td>1794</td>\n",
       "      <td>8.19</td>\n",
       "      <td>15.41</td>\n",
       "    </tr>\n",
       "    <tr>\n",
       "      <th>17</th>\n",
       "      <td>1795</td>\n",
       "      <td>8.20</td>\n",
       "      <td>15.43</td>\n",
       "    </tr>\n",
       "    <tr>\n",
       "      <th>18</th>\n",
       "      <td>1796</td>\n",
       "      <td>8.19</td>\n",
       "      <td>15.41</td>\n",
       "    </tr>\n",
       "    <tr>\n",
       "      <th>19</th>\n",
       "      <td>1797</td>\n",
       "      <td>8.20</td>\n",
       "      <td>15.43</td>\n",
       "    </tr>\n",
       "    <tr>\n",
       "      <th>20</th>\n",
       "      <td>1798</td>\n",
       "      <td>8.26</td>\n",
       "      <td>15.49</td>\n",
       "    </tr>\n",
       "    <tr>\n",
       "      <th>21</th>\n",
       "      <td>1799</td>\n",
       "      <td>8.29</td>\n",
       "      <td>15.50</td>\n",
       "    </tr>\n",
       "    <tr>\n",
       "      <th>22</th>\n",
       "      <td>1800</td>\n",
       "      <td>8.32</td>\n",
       "      <td>15.52</td>\n",
       "    </tr>\n",
       "    <tr>\n",
       "      <th>23</th>\n",
       "      <td>1801</td>\n",
       "      <td>8.34</td>\n",
       "      <td>15.52</td>\n",
       "    </tr>\n",
       "    <tr>\n",
       "      <th>24</th>\n",
       "      <td>1802</td>\n",
       "      <td>8.36</td>\n",
       "      <td>15.53</td>\n",
       "    </tr>\n",
       "    <tr>\n",
       "      <th>25</th>\n",
       "      <td>1803</td>\n",
       "      <td>8.37</td>\n",
       "      <td>15.53</td>\n",
       "    </tr>\n",
       "    <tr>\n",
       "      <th>26</th>\n",
       "      <td>1804</td>\n",
       "      <td>8.37</td>\n",
       "      <td>15.55</td>\n",
       "    </tr>\n",
       "    <tr>\n",
       "      <th>27</th>\n",
       "      <td>1805</td>\n",
       "      <td>8.35</td>\n",
       "      <td>15.53</td>\n",
       "    </tr>\n",
       "    <tr>\n",
       "      <th>28</th>\n",
       "      <td>1806</td>\n",
       "      <td>8.35</td>\n",
       "      <td>15.55</td>\n",
       "    </tr>\n",
       "    <tr>\n",
       "      <th>29</th>\n",
       "      <td>1807</td>\n",
       "      <td>8.35</td>\n",
       "      <td>15.56</td>\n",
       "    </tr>\n",
       "    <tr>\n",
       "      <th>...</th>\n",
       "      <td>...</td>\n",
       "      <td>...</td>\n",
       "      <td>...</td>\n",
       "    </tr>\n",
       "    <tr>\n",
       "      <th>218</th>\n",
       "      <td>1996</td>\n",
       "      <td>8.84</td>\n",
       "      <td>16.29</td>\n",
       "    </tr>\n",
       "    <tr>\n",
       "      <th>219</th>\n",
       "      <td>1997</td>\n",
       "      <td>8.85</td>\n",
       "      <td>16.29</td>\n",
       "    </tr>\n",
       "    <tr>\n",
       "      <th>220</th>\n",
       "      <td>1998</td>\n",
       "      <td>8.89</td>\n",
       "      <td>16.37</td>\n",
       "    </tr>\n",
       "    <tr>\n",
       "      <th>221</th>\n",
       "      <td>1999</td>\n",
       "      <td>8.91</td>\n",
       "      <td>16.43</td>\n",
       "    </tr>\n",
       "    <tr>\n",
       "      <th>222</th>\n",
       "      <td>2000</td>\n",
       "      <td>8.93</td>\n",
       "      <td>16.46</td>\n",
       "    </tr>\n",
       "    <tr>\n",
       "      <th>223</th>\n",
       "      <td>2001</td>\n",
       "      <td>8.95</td>\n",
       "      <td>16.47</td>\n",
       "    </tr>\n",
       "    <tr>\n",
       "      <th>224</th>\n",
       "      <td>2002</td>\n",
       "      <td>8.99</td>\n",
       "      <td>16.49</td>\n",
       "    </tr>\n",
       "    <tr>\n",
       "      <th>225</th>\n",
       "      <td>2003</td>\n",
       "      <td>9.01</td>\n",
       "      <td>16.48</td>\n",
       "    </tr>\n",
       "    <tr>\n",
       "      <th>226</th>\n",
       "      <td>2004</td>\n",
       "      <td>9.04</td>\n",
       "      <td>16.50</td>\n",
       "    </tr>\n",
       "    <tr>\n",
       "      <th>227</th>\n",
       "      <td>2005</td>\n",
       "      <td>9.07</td>\n",
       "      <td>16.52</td>\n",
       "    </tr>\n",
       "    <tr>\n",
       "      <th>228</th>\n",
       "      <td>2006</td>\n",
       "      <td>9.11</td>\n",
       "      <td>16.59</td>\n",
       "    </tr>\n",
       "    <tr>\n",
       "      <th>229</th>\n",
       "      <td>2007</td>\n",
       "      <td>9.14</td>\n",
       "      <td>16.62</td>\n",
       "    </tr>\n",
       "    <tr>\n",
       "      <th>230</th>\n",
       "      <td>2008</td>\n",
       "      <td>9.16</td>\n",
       "      <td>16.65</td>\n",
       "    </tr>\n",
       "    <tr>\n",
       "      <th>231</th>\n",
       "      <td>2009</td>\n",
       "      <td>9.19</td>\n",
       "      <td>16.68</td>\n",
       "    </tr>\n",
       "    <tr>\n",
       "      <th>232</th>\n",
       "      <td>2010</td>\n",
       "      <td>9.21</td>\n",
       "      <td>16.70</td>\n",
       "    </tr>\n",
       "    <tr>\n",
       "      <th>233</th>\n",
       "      <td>2011</td>\n",
       "      <td>9.22</td>\n",
       "      <td>16.73</td>\n",
       "    </tr>\n",
       "    <tr>\n",
       "      <th>234</th>\n",
       "      <td>2012</td>\n",
       "      <td>9.25</td>\n",
       "      <td>16.78</td>\n",
       "    </tr>\n",
       "    <tr>\n",
       "      <th>235</th>\n",
       "      <td>2013</td>\n",
       "      <td>9.27</td>\n",
       "      <td>16.86</td>\n",
       "    </tr>\n",
       "    <tr>\n",
       "      <th>236</th>\n",
       "      <td>NaN</td>\n",
       "      <td>NaN</td>\n",
       "      <td>NaN</td>\n",
       "    </tr>\n",
       "    <tr>\n",
       "      <th>237</th>\n",
       "      <td>NaN</td>\n",
       "      <td>NaN</td>\n",
       "      <td>NaN</td>\n",
       "    </tr>\n",
       "    <tr>\n",
       "      <th>238</th>\n",
       "      <td>NaN</td>\n",
       "      <td>NaN</td>\n",
       "      <td>NaN</td>\n",
       "    </tr>\n",
       "    <tr>\n",
       "      <th>239</th>\n",
       "      <td>NaN</td>\n",
       "      <td>NaN</td>\n",
       "      <td>NaN</td>\n",
       "    </tr>\n",
       "    <tr>\n",
       "      <th>240</th>\n",
       "      <td>NaN</td>\n",
       "      <td>NaN</td>\n",
       "      <td>NaN</td>\n",
       "    </tr>\n",
       "    <tr>\n",
       "      <th>241</th>\n",
       "      <td>NaN</td>\n",
       "      <td>NaN</td>\n",
       "      <td>NaN</td>\n",
       "    </tr>\n",
       "    <tr>\n",
       "      <th>242</th>\n",
       "      <td>NaN</td>\n",
       "      <td>NaN</td>\n",
       "      <td>NaN</td>\n",
       "    </tr>\n",
       "    <tr>\n",
       "      <th>243</th>\n",
       "      <td>NaN</td>\n",
       "      <td>NaN</td>\n",
       "      <td>NaN</td>\n",
       "    </tr>\n",
       "    <tr>\n",
       "      <th>244</th>\n",
       "      <td>NaN</td>\n",
       "      <td>NaN</td>\n",
       "      <td>NaN</td>\n",
       "    </tr>\n",
       "    <tr>\n",
       "      <th>245</th>\n",
       "      <td>NaN</td>\n",
       "      <td>NaN</td>\n",
       "      <td>NaN</td>\n",
       "    </tr>\n",
       "    <tr>\n",
       "      <th>246</th>\n",
       "      <td>NaN</td>\n",
       "      <td>NaN</td>\n",
       "      <td>NaN</td>\n",
       "    </tr>\n",
       "    <tr>\n",
       "      <th>247</th>\n",
       "      <td>NaN</td>\n",
       "      <td>NaN</td>\n",
       "      <td>NaN</td>\n",
       "    </tr>\n",
       "  </tbody>\n",
       "</table>\n",
       "<p>248 rows × 3 columns</p>\n",
       "</div>"
      ],
      "text/plain": [
       "    30 Year Moving Average Unnamed: 1   Unnamed: 2\n",
       "0                     year  MA Global  MA Memphis \n",
       "1                     1779       8.14        15.28\n",
       "2                     1780       8.16        15.09\n",
       "3                     1781       8.16        15.05\n",
       "4                     1782       8.24        15.22\n",
       "5                     1783       8.21        15.20\n",
       "6                     1784       8.19        15.18\n",
       "7                     1785       8.16        15.23\n",
       "8                     1786       8.14        15.22\n",
       "9                     1787       8.11        15.22\n",
       "10                    1788       8.16        15.28\n",
       "11                    1789       8.17        15.29\n",
       "12                    1790       8.20        15.35\n",
       "13                    1791       8.18        15.34\n",
       "14                    1792       8.16        15.33\n",
       "15                    1793       8.19        15.40\n",
       "16                    1794       8.19        15.41\n",
       "17                    1795       8.20        15.43\n",
       "18                    1796       8.19        15.41\n",
       "19                    1797       8.20        15.43\n",
       "20                    1798       8.26        15.49\n",
       "21                    1799       8.29        15.50\n",
       "22                    1800       8.32        15.52\n",
       "23                    1801       8.34        15.52\n",
       "24                    1802       8.36        15.53\n",
       "25                    1803       8.37        15.53\n",
       "26                    1804       8.37        15.55\n",
       "27                    1805       8.35        15.53\n",
       "28                    1806       8.35        15.55\n",
       "29                    1807       8.35        15.56\n",
       "..                     ...        ...          ...\n",
       "218                   1996       8.84        16.29\n",
       "219                   1997       8.85        16.29\n",
       "220                   1998       8.89        16.37\n",
       "221                   1999       8.91        16.43\n",
       "222                   2000       8.93        16.46\n",
       "223                   2001       8.95        16.47\n",
       "224                   2002       8.99        16.49\n",
       "225                   2003       9.01        16.48\n",
       "226                   2004       9.04        16.50\n",
       "227                   2005       9.07        16.52\n",
       "228                   2006       9.11        16.59\n",
       "229                   2007       9.14        16.62\n",
       "230                   2008       9.16        16.65\n",
       "231                   2009       9.19        16.68\n",
       "232                   2010       9.21        16.70\n",
       "233                   2011       9.22        16.73\n",
       "234                   2012       9.25        16.78\n",
       "235                   2013       9.27        16.86\n",
       "236                    NaN        NaN          NaN\n",
       "237                    NaN        NaN          NaN\n",
       "238                    NaN        NaN          NaN\n",
       "239                    NaN        NaN          NaN\n",
       "240                    NaN        NaN          NaN\n",
       "241                    NaN        NaN          NaN\n",
       "242                    NaN        NaN          NaN\n",
       "243                    NaN        NaN          NaN\n",
       "244                    NaN        NaN          NaN\n",
       "245                    NaN        NaN          NaN\n",
       "246                    NaN        NaN          NaN\n",
       "247                    NaN        NaN          NaN\n",
       "\n",
       "[248 rows x 3 columns]"
      ]
     },
     "execution_count": 8,
     "metadata": {},
     "output_type": "execute_result"
    }
   ],
   "source": [
    "from matplotlib import pyplot as plt\n",
    "import pandas as pd\n",
    "import seaborn as sns\n",
    "%matplotlib inline\n",
    "import warnings \n",
    "warnings.filterwarnings('ignore')\n",
    "\n",
    "stats = pd.read_csv('C:\\\\Users\\\\nnagaraj\\\\Desktop\\\\Book1.csv')\n",
    "stats\n"
   ]
  },
  {
   "cell_type": "code",
   "execution_count": null,
   "metadata": {},
   "outputs": [],
   "source": []
  },
  {
   "cell_type": "code",
   "execution_count": null,
   "metadata": {},
   "outputs": [],
   "source": []
  },
  {
   "cell_type": "code",
   "execution_count": 6,
   "metadata": {},
   "outputs": [
    {
     "name": "stdout",
     "output_type": "stream",
     "text": [
      "{'Barney': 72, 'Robin': 68, 'Ted': 72, 'Lily': 66, 'Marshall': 76}\n"
     ]
    }
   ],
   "source": [
    "cast_names = [\"Barney\", \"Robin\", \"Ted\", \"Lily\", \"Marshall\"]\n",
    "cast_heights = [72, 68, 72, 66, 76]\n",
    "\n",
    "cast = dict(zip(cast_names, cast_heights))\n",
    "print(cast)\n"
   ]
  },
  {
   "cell_type": "code",
   "execution_count": 12,
   "metadata": {},
   "outputs": [
    {
     "name": "stdout",
     "output_type": "stream",
     "text": [
      "('Barney', 'Robin', 'Ted', 'Lily', 'Marshall')\n",
      "(72, 68, 72, 66, 76)\n"
     ]
    }
   ],
   "source": [
    "#Unzip the cast tuple into two names and heights tuples.\n",
    "\n",
    "cast = ((\"Barney\", 72), (\"Robin\", 68), (\"Ted\", 72), (\"Lily\", 66), (\"Marshall\", 76))\n",
    "\n",
    "names, heights = zip(*cast)\n",
    "print(names)\n",
    "print(heights)"
   ]
  },
  {
   "cell_type": "code",
   "execution_count": 15,
   "metadata": {},
   "outputs": [
    {
     "name": "stdout",
     "output_type": "stream",
     "text": [
      "((0, 3, 6, 9), (1, 4, 7, 10), (2, 5, 8, 11))\n"
     ]
    }
   ],
   "source": [
    "#Use zip to transpose data from a 4-by-3 #matrix to a 3-by-4 matrix. There's actually a cool trick for this! Feel free to look at the solutions if you can't figure it out.\n",
    "\n",
    "data = ((0, 1, 2), (3, 4, 5), (6, 7, 8), (9, 10, 11))\n",
    "\n",
    "data_transpose = tuple(zip(*data))\n",
    "print(data_transpose)"
   ]
  },
  {
   "cell_type": "code",
   "execution_count": 31,
   "metadata": {},
   "outputs": [
    {
     "name": "stdout",
     "output_type": "stream",
     "text": [
      "['Barney Stinson 72', 'Robin Scherbatsky 68', 'Ted Mosby 72', 'Lily Aldrin 66', 'Marshall Eriksen 76']\n"
     ]
    }
   ],
   "source": [
    "#Use enumerate to modify the cast list so that each element contains the name followed by the character's corresponding height. For example, the first element of cast should change from \"Barney Stinson\" to \"Barney Stinson 72\".\n",
    "\n",
    "\n",
    "cast = [\"Barney Stinson\", \"Robin Scherbatsky\", \"Ted Mosby\", \"Lily Aldrin\", \"Marshall Eriksen\"]\n",
    "heights = [72, 68, 72, 66, 76]\n",
    "\n",
    "# write your for loop here\n",
    "for i, character in enumerate(cast):\n",
    "    cast[i] = character + \" \" + str(heights[i])\n",
    "print(cast)\n"
   ]
  },
  {
   "cell_type": "code",
   "execution_count": 32,
   "metadata": {},
   "outputs": [],
   "source": [
    "### LIST COMPREHENSIONS###"
   ]
  },
  {
   "cell_type": "code",
   "execution_count": 35,
   "metadata": {},
   "outputs": [
    {
     "name": "stdout",
     "output_type": "stream",
     "text": [
      "['rick', 'morty', 'summer', 'jerry', 'beth']\n"
     ]
    }
   ],
   "source": [
    "#Use a list comprehension to create a new list first_names containing just the first names in names in lowercase.\n",
    "\n",
    "names = [\"Rick Sanchez\", \"Morty Smith\", \"Summer Smith\", \"Jerry Smith\", \"Beth Smith\"]\n",
    "\n",
    "first_names = [name.split()[0].lower() for name in names]\n",
    "print(first_names)"
   ]
  },
  {
   "cell_type": "code",
   "execution_count": 43,
   "metadata": {},
   "outputs": [
    {
     "name": "stdout",
     "output_type": "stream",
     "text": [
      "[3, 6, 9, 12, 15, 18, 21, 24, 27, 30, 33, 36, 39, 42, 45, 48, 51, 54, 57, 60]\n"
     ]
    }
   ],
   "source": [
    "#Use a list comprehension to create a list multiples_3 containing the first 20 multiples of 3.\n",
    "\n",
    "\n",
    "multiples_3 = [3*x for x in range(1,21)]\n",
    "print(multiples_3)\n",
    "\n",
    "\n"
   ]
  },
  {
   "cell_type": "code",
   "execution_count": 50,
   "metadata": {},
   "outputs": [
    {
     "name": "stdout",
     "output_type": "stream",
     "text": [
      "['Rick Sanchez', 'Summer Smith', 'Beth Smith']\n"
     ]
    }
   ],
   "source": [
    "#Use a list comprehension to create a list of names passed that only include those that scored at least 65.\n",
    "\n",
    "\n",
    "scores = {\n",
    "             \"Rick Sanchez\": 70,\n",
    "             \"Morty Smith\": 35,\n",
    "             \"Summer Smith\": 82,\n",
    "             \"Jerry Smith\": 23,\n",
    "             \"Beth Smith\": 98\n",
    "          }\n",
    "\n",
    "passed = [k for (k,v) in scores.items() if v >= 65]\n",
    "print(passed)\n",
    "\n",
    "\n"
   ]
  },
  {
   "cell_type": "code",
   "execution_count": 9,
   "metadata": {},
   "outputs": [
    {
     "name": "stdout",
     "output_type": "stream",
     "text": [
      "1 week(s) and 3 day(s)\n"
     ]
    }
   ],
   "source": [
    "# write your function here\n",
    "def readable_timedelta(num):\n",
    "    day = num%7\n",
    "    week = num//7\n",
    "    return(\"{} week(s) and {} day(s)\".format(week,day))\n",
    "print(readable_timedelta(10))\n"
   ]
  },
  {
   "cell_type": "code",
   "execution_count": 13,
   "metadata": {},
   "outputs": [
    {
     "ename": "TypeError",
     "evalue": "buy_eggs() takes 0 positional arguments but 1 was given",
     "output_type": "error",
     "traceback": [
      "\u001b[1;31m---------------------------------------------------------------------------\u001b[0m",
      "\u001b[1;31mTypeError\u001b[0m                                 Traceback (most recent call last)",
      "\u001b[1;32m<ipython-input-13-e83455a850d1>\u001b[0m in \u001b[0;36m<module>\u001b[1;34m()\u001b[0m\n\u001b[0;32m      3\u001b[0m \u001b[1;32mdef\u001b[0m \u001b[0mbuy_eggs\u001b[0m\u001b[1;33m(\u001b[0m\u001b[1;33m)\u001b[0m\u001b[1;33m:\u001b[0m\u001b[1;33m\u001b[0m\u001b[0m\n\u001b[0;32m      4\u001b[0m     \u001b[0megg_count\u001b[0m \u001b[1;33m+=\u001b[0m \u001b[1;36m12\u001b[0m \u001b[1;31m# purchase a dozen eggs\u001b[0m\u001b[1;33m\u001b[0m\u001b[0m\n\u001b[1;32m----> 5\u001b[1;33m \u001b[0mbuy_eggs\u001b[0m\u001b[1;33m(\u001b[0m\u001b[1;36m0\u001b[0m\u001b[1;33m)\u001b[0m\u001b[1;33m\u001b[0m\u001b[0m\n\u001b[0m",
      "\u001b[1;31mTypeError\u001b[0m: buy_eggs() takes 0 positional arguments but 1 was given"
     ]
    }
   ],
   "source": [
    "egg_count = 0\n",
    "\n",
    "def buy_eggs():\n",
    "    egg_count += 12 # purchase a dozen eggs\n",
    "buy_eggs(0)"
   ]
  },
  {
   "cell_type": "code",
   "execution_count": 14,
   "metadata": {},
   "outputs": [],
   "source": [
    "###LAMBDA EXPRESSION###"
   ]
  },
  {
   "cell_type": "code",
   "execution_count": 15,
   "metadata": {},
   "outputs": [
    {
     "data": {
      "text/plain": [
       "'MAP applies all the functions in the input list\\nmap(function_to_apply, list_of_inputs)\\n    \\n    items = [1, 2, 3, 4, 5]                 squared = list(lambda(x:x**2,items))\\n    squared = []\\n    for i in items:\\n        squared.append(i**2)                   '"
      ]
     },
     "execution_count": 15,
     "metadata": {},
     "output_type": "execute_result"
    }
   ],
   "source": [
    "\"\"\"MAP applies all the functions in the input list\n",
    "map(function_to_apply, list_of_inputs)\n",
    "    \n",
    "    items = [1, 2, 3, 4, 5]                 squared = list(lambda(x:x**2,items))\n",
    "    squared = []\n",
    "    for i in items:\n",
    "        squared.append(i**2)                   \"\"\"\n"
   ]
  },
  {
   "cell_type": "code",
   "execution_count": 24,
   "metadata": {},
   "outputs": [
    {
     "name": "stdout",
     "output_type": "stream",
     "text": [
      "5\n",
      "6\n",
      "7\n",
      "8\n",
      "9\n"
     ]
    }
   ],
   "source": [
    "def my_range(x):\n",
    "    i = 5\n",
    "    while i < x:\n",
    "        yield i\n",
    "        i += 1\n",
    "        \n",
    "for x in my_range(10):\n",
    "    print(x)\n"
   ]
  },
  {
   "cell_type": "code",
   "execution_count": 29,
   "metadata": {
    "scrolled": true
   },
   "outputs": [
    {
     "name": "stdout",
     "output_type": "stream",
     "text": [
      "[1, 3, 5, 7, 9]\n"
     ]
    }
   ],
   "source": [
    "range(20)\n",
    "result = list(filter(lambda x: x<10, range(1,20,2)))\n",
    "print(result)              "
   ]
  },
  {
   "cell_type": "code",
   "execution_count": 4,
   "metadata": {},
   "outputs": [
    {
     "name": "stdout",
     "output_type": "stream",
     "text": [
      "Lesson 1: Why Python Programming\n",
      "Lesson 2: Data Types and Operators\n",
      "Lesson 3: Control Flow\n",
      "Lesson 4: Functions\n",
      "Lesson 5: Scripting\n"
     ]
    }
   ],
   "source": [
    "###ITERATORS###\n",
    "\n",
    "lessons = [\"Why Python Programming\", \"Data Types and Operators\", \"Control Flow\", \"Functions\", \"Scripting\"]\n",
    "\n",
    "def my_enumerate(iterable, start=0):\n",
    "    count = start\n",
    "    for element in iterable:\n",
    "        yield count, element\n",
    "        count +=1 \n",
    "\n",
    "for i, lesson in my_enumerate(lessons, 1):\n",
    "    print(\"Lesson {}: {}\".format(i, lesson))"
   ]
  },
  {
   "cell_type": "code",
   "execution_count": 5,
   "metadata": {},
   "outputs": [],
   "source": [
    "###GENERATORS###"
   ]
  },
  {
   "cell_type": "code",
   "execution_count": 7,
   "metadata": {},
   "outputs": [
    {
     "name": "stdout",
     "output_type": "stream",
     "text": [
      "[0, 1, 2, 3]\n",
      "[4, 5, 6, 7]\n",
      "[8, 9, 10, 11]\n",
      "[12, 13, 14, 15]\n",
      "[16, 17, 18, 19]\n",
      "[20, 21, 22, 23]\n",
      "[24]\n"
     ]
    }
   ],
   "source": [
    "def chunker(iterable, size):\n",
    "    for i in range(0, len(iterable), size):\n",
    "        yield iterable[i:i + size]\n",
    "\n",
    "for chunk in chunker(range(25), 4):\n",
    "    print(list(chunk))\n"
   ]
  },
  {
   "cell_type": "code",
   "execution_count": 8,
   "metadata": {},
   "outputs": [],
   "source": [
    "### EDITING A PYTHON SCRIPT ###"
   ]
  },
  {
   "cell_type": "code",
   "execution_count": 11,
   "metadata": {},
   "outputs": [
    {
     "name": "stdout",
     "output_type": "stream",
     "text": [
      "\n",
      "Welcome to Python3!\n",
      "\n",
      "             ____\n",
      "            / . .\\\n",
      "            \\  ---<\n",
      "             \\  /\n",
      "   __________/ /\n",
      "-=:___________/\n",
      "\n",
      "<3, Juno\n",
      "\n"
     ]
    }
   ],
   "source": [
    "how_many_snakes = 1\n",
    "snake_string = \"\"\"\n",
    "Welcome to Python3!\n",
    "\n",
    "             ____\n",
    "            / . .\\\\\n",
    "            \\  ---<\n",
    "             \\  /\n",
    "   __________/ /\n",
    "-=:___________/\n",
    "\n",
    "<3, Juno\n",
    "\"\"\"\n",
    "\n",
    "\n",
    "print(snake_string * how_many_snakes)"
   ]
  },
  {
   "cell_type": "code",
   "execution_count": 12,
   "metadata": {},
   "outputs": [
    {
     "name": "stdout",
     "output_type": "stream",
     "text": [
      "Enter a nameNagashri Nagaraj\n",
      "Hello Nagashri Nagaraj\n"
     ]
    }
   ],
   "source": [
    "name = input('Enter a name')\n",
    "print('Hello', name.title())"
   ]
  },
  {
   "cell_type": "code",
   "execution_count": 19,
   "metadata": {},
   "outputs": [
    {
     "name": "stdout",
     "output_type": "stream",
     "text": [
      "Please input a number: 2.3\n",
      "22\n"
     ]
    }
   ],
   "source": [
    "num = int(float(input('Please input a number: ')))\n",
    "num += 20\n",
    "print(num)"
   ]
  },
  {
   "cell_type": "code",
   "execution_count": 23,
   "metadata": {},
   "outputs": [
    {
     "name": "stdout",
     "output_type": "stream",
     "text": [
      "Please enter an expression that is bugging you!! 2**3\n",
      "The answer that is playing hard to get is 8\n"
     ]
    }
   ],
   "source": [
    "result = eval(input(\"Please enter an expression that is bugging you!! \"))\n",
    "print(\"The answer that is playing hard to get is {}\".format(result))"
   ]
  },
  {
   "cell_type": "code",
   "execution_count": 37,
   "metadata": {},
   "outputs": [
    {
     "name": "stdout",
     "output_type": "stream",
     "text": [
      "Enter Student's Name: fhg\n",
      "Enter Total Missing Assignment: 4\n",
      "Enter Current Grade of Student: 88\n",
      "['fhg', 4.0, 96.0]\n"
     ]
    }
   ],
   "source": [
    "\"\"\"\n",
    "\n",
    "stu = []\n",
    "stu.append(input(\"Enter Student's Name: \"))\n",
    "stu.append(float(input(\"Enter Total Missing Assignment: \")))\n",
    "cur_grade = float(input(\"Enter Current Grade of Student: \"))\n",
    "stu.append((cur_grade + float(stu[1]) * 2))\n",
    "print (stu)\n",
    "\n",
    "\"\"\""
   ]
  },
  {
   "cell_type": "code",
   "execution_count": 6,
   "metadata": {},
   "outputs": [
    {
     "name": "stdout",
     "output_type": "stream",
     "text": [
      "Enter student's Name: asds\n",
      "Enter Total Missing Assignment: 12\n",
      "Enter Current Grade of Student: 12\n",
      "Another Student (Yes/No): yes\n",
      "Enter student's Name: sdfsf\n",
      "Enter Total Missing Assignment: 1.2\n",
      "Enter Current Grade of Student: 1.2\n",
      "Another Student (Yes/No): yes\n",
      "Enter student's Name: oioj\n",
      "Enter Total Missing Assignment: 54\n",
      "Enter Current Grade of Student: 3\n",
      "Another Student (Yes/No): no\n",
      "['asds', 12.0, 36.0, 'sdfsf', 1.2, 25.2, 'oioj', 54.0, 27.0]\n"
     ]
    }
   ],
   "source": [
    "\n",
    "stu = [] \n",
    "while True:\n",
    "    \n",
    "    stu.append(input(\"Enter student's Name: \"))\n",
    "    stu.append(float(input(\"Enter Total Missing Assignment: \")))\n",
    "    stu.append(float(input(\"Enter Current Grade of Student: \")) + float(stu[1] * 2))\n",
    "\n",
    "    more = input(\"Another Student (Yes/No): \")\n",
    "    \n",
    "    if more.upper() != \"YES\":\n",
    "        break\n",
    "print(stu)"
   ]
  },
  {
   "cell_type": "code",
   "execution_count": 1,
   "metadata": {},
   "outputs": [
    {
     "name": "stdout",
     "output_type": "stream",
     "text": [
      "Enter student's Name: asd\n",
      "Enter Total Missing Assignment: 12\n",
      "Enter Current Grade of Student: 12\n",
      "Another Student (Yes/No): c\n",
      "{'asd': ('12', 36.0)}\n"
     ]
    }
   ],
   "source": [
    "##WORKING##\n",
    "\n",
    "stu = {} \n",
    "while True:\n",
    "    \n",
    "    name = \"\"\n",
    "    list_values = []\n",
    "    name = input(\"Enter student's Name: \")\n",
    "    if len(name) == 0:\n",
    "        name = input(\"Enter student's Name: \")\n",
    "        more = input(\"Do you want to exit? (Yes/No): \")\n",
    "        if more.upper() == \"YES\":\n",
    "            break\n",
    "    \n",
    "    missing_assignment = input(\"Enter Total Missing Assignment: \")\n",
    "    current_grade = input(\"Enter Current Grade of Student: \")\n",
    "    \n",
    "    stu.update({name: (missing_assignment, (float(current_grade) + float(missing_assignment)*2))})\n",
    "\n",
    "    more = input(\"Another Student (Yes/No): \")\n",
    "    \n",
    "    if more.upper() != \"YES\":\n",
    "        break\n",
    "print(stu)"
   ]
  },
  {
   "cell_type": "code",
   "execution_count": 3,
   "metadata": {},
   "outputs": [
    {
     "data": {
      "text/plain": [
       "('12', 36.0)"
      ]
     },
     "execution_count": 3,
     "metadata": {},
     "output_type": "execute_result"
    }
   ],
   "source": [
    "stu['asd']"
   ]
  },
  {
   "cell_type": "code",
   "execution_count": 5,
   "metadata": {},
   "outputs": [
    {
     "name": "stdout",
     "output_type": "stream",
     "text": [
      "Enter student's Name: Jai\n",
      "Enter Total Missing Assignment: 2\n",
      "Enter Current Grade of Student: 88\n",
      "Another Student (Yes/No): Yes\n",
      "Enter student's Name: Ganesha\n",
      "Enter Total Missing Assignment: 1\n",
      "Enter Current Grade of Student: 99\n",
      "Another Student (Yes/No): No\n",
      "{'name': 'Ganesha', 'missing_assignment': '1', 'current_grade': '99'}\n"
     ]
    }
   ],
   "source": [
    "#Dictionary\n",
    "\n",
    "stu = {} \n",
    "while True:\n",
    "        \n",
    "    stu.update(name = input(\"Enter student's Name: \"))\n",
    "    stu.update(missing_assignment = input(\"Enter Total Missing Assignment: \"))\n",
    "    stu.update(current_grade = input(\"Enter Current Grade of Student: \"))\n",
    "       \n",
    "    more = input(\"Another Student (Yes/No): \")\n",
    "    \n",
    "    if more.upper() != \"YES\":\n",
    "        break\n",
    "print(stu)"
   ]
  },
  {
   "cell_type": "code",
   "execution_count": 9,
   "metadata": {},
   "outputs": [
    {
     "name": "stdout",
     "output_type": "stream",
     "text": [
      "99\n"
     ]
    }
   ],
   "source": [
    "print(stu['current_grade'])"
   ]
  },
  {
   "cell_type": "code",
   "execution_count": 6,
   "metadata": {},
   "outputs": [
    {
     "name": "stdout",
     "output_type": "stream",
     "text": [
      "Enter student's Name: Jai\n",
      "Enter Total Missing Assignment: 4\n",
      "Enter Current Grade of Student: 88\n",
      "Do you want to exit? (Yes/No): no\n",
      "Another Student (Yes/No): Sudarshana\n",
      "{'Jai': ('4', 96.0)}\n"
     ]
    }
   ],
   "source": [
    "stu = {} \n",
    "while True:\n",
    "    \n",
    "  \n",
    "    name = input(\"Enter student's Name: \")\n",
    "    if len(name) == 0:\n",
    "        name = input(\"Enter student's Name: \")\n",
    "        more = input(\"Do you want to exit? (Yes/No): \")\n",
    "        if more.upper() == \"YES\":\n",
    "            break\n",
    "    \n",
    "    missing_assignment = input(\"Enter Total Missing Assignment: \")\n",
    "    current_grade = input(\"Enter Current Grade of Student: \")\n",
    "    \n",
    "    stu.update({name: (missing_assignment, (float(current_grade) + float(missing_assignment)*2))})\n",
    "\n",
    "    more = input(\"Another Student (Yes/No): \")\n",
    "    \n",
    "    if more.upper() != \"YES\":\n",
    "        break\n",
    "print(stu)"
   ]
  },
  {
   "cell_type": "code",
   "execution_count": null,
   "metadata": {},
   "outputs": [],
   "source": []
  },
  {
   "cell_type": "code",
   "execution_count": null,
   "metadata": {},
   "outputs": [],
   "source": []
  }
 ],
 "metadata": {
  "kernelspec": {
   "display_name": "Python 3",
   "language": "python",
   "name": "python3"
  },
  "language_info": {
   "codemirror_mode": {
    "name": "ipython",
    "version": 3
   },
   "file_extension": ".py",
   "mimetype": "text/x-python",
   "name": "python",
   "nbconvert_exporter": "python",
   "pygments_lexer": "ipython3",
   "version": "3.6.4rc1"
  }
 },
 "nbformat": 4,
 "nbformat_minor": 2
}
