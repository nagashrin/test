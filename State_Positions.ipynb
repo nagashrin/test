{
 "cells": [
  {
   "cell_type": "code",
   "execution_count": 101,
   "metadata": {},
   "outputs": [],
   "source": [
    "import pandas as pd\n",
    "#import xlrd\n",
    "#pd.read_excel('c:\\\\Users\\\\nnagaraj\\\\Desktop\\\\Workforce Specialist_State.xlsx')\n",
    "\n",
    "wfs = pd.read_csv('c:\\\\Users\\\\nnagaraj\\\\Desktop\\\\WFS_State.csv')\n",
    "wfs = pd.DataFrame(wfs)\n",
    "#wfs.head()"
   ]
  },
  {
   "cell_type": "code",
   "execution_count": 102,
   "metadata": {},
   "outputs": [],
   "source": [
    "#unique_positions = wfs['Position'].unique()\n",
    "#unique_positions"
   ]
  },
  {
   "cell_type": "code",
   "execution_count": 103,
   "metadata": {},
   "outputs": [],
   "source": [
    "#group = wfs.groupby('Position').size()\n",
    "#group"
   ]
  },
  {
   "cell_type": "code",
   "execution_count": 104,
   "metadata": {},
   "outputs": [
    {
     "data": {
      "text/html": [
       "<div>\n",
       "<style scoped>\n",
       "    .dataframe tbody tr th:only-of-type {\n",
       "        vertical-align: middle;\n",
       "    }\n",
       "\n",
       "    .dataframe tbody tr th {\n",
       "        vertical-align: top;\n",
       "    }\n",
       "\n",
       "    .dataframe thead th {\n",
       "        text-align: right;\n",
       "    }\n",
       "</style>\n",
       "<table border=\"1\" class=\"dataframe\">\n",
       "  <thead>\n",
       "    <tr style=\"text-align: right;\">\n",
       "      <th></th>\n",
       "      <th>Name</th>\n",
       "      <th>Position</th>\n",
       "      <th>Location</th>\n",
       "      <th>OfficeNumber</th>\n",
       "      <th>Section</th>\n",
       "      <th>Telephone</th>\n",
       "      <th>Email</th>\n",
       "    </tr>\n",
       "  </thead>\n",
       "  <tbody>\n",
       "    <tr>\n",
       "      <th>0</th>\n",
       "      <td>Tonya CAMPBELL</td>\n",
       "      <td>Workforce Specialist</td>\n",
       "      <td>ARKADELPHIA</td>\n",
       "      <td>290</td>\n",
       "      <td>Arkadelphia TANF</td>\n",
       "      <td>870-245-1446</td>\n",
       "      <td>tonya.campbell@arkansas.gov</td>\n",
       "    </tr>\n",
       "    <tr>\n",
       "      <th>1</th>\n",
       "      <td>Cynthia FARMER</td>\n",
       "      <td>Workforce Specialist</td>\n",
       "      <td>ARKADELPHIA</td>\n",
       "      <td>290</td>\n",
       "      <td>ES/DVOP</td>\n",
       "      <td>870-245-1440</td>\n",
       "      <td>cynthia.farmer@arkansas.gov</td>\n",
       "    </tr>\n",
       "    <tr>\n",
       "      <th>2</th>\n",
       "      <td>Debbie PAYNE</td>\n",
       "      <td>Intermittent Administrative Special</td>\n",
       "      <td>ARKADELPHIA</td>\n",
       "      <td>290</td>\n",
       "      <td>TANF</td>\n",
       "      <td>870-245-1447</td>\n",
       "      <td>debbie.payne@arkansas.gov</td>\n",
       "    </tr>\n",
       "    <tr>\n",
       "      <th>3</th>\n",
       "      <td>Carla RAIRDON</td>\n",
       "      <td>Workforce Specialist</td>\n",
       "      <td>ARKADELPHIA</td>\n",
       "      <td>290</td>\n",
       "      <td>Arkadelphia UI</td>\n",
       "      <td>870-245-1445</td>\n",
       "      <td>carla.rairdon@arkansas.gov</td>\n",
       "    </tr>\n",
       "    <tr>\n",
       "      <th>4</th>\n",
       "      <td>Gwendolyn TANK</td>\n",
       "      <td>Workforce Specialist</td>\n",
       "      <td>ARKADELPHIA</td>\n",
       "      <td>290</td>\n",
       "      <td>Arkadelphia</td>\n",
       "      <td>870-245-1444</td>\n",
       "      <td>gwendolyn.tank@arkansas.gov</td>\n",
       "    </tr>\n",
       "  </tbody>\n",
       "</table>\n",
       "</div>"
      ],
      "text/plain": [
       "             Name                             Position     Location  \\\n",
       "0  Tonya CAMPBELL                 Workforce Specialist  ARKADELPHIA   \n",
       "1  Cynthia FARMER                 Workforce Specialist  ARKADELPHIA   \n",
       "2    Debbie PAYNE  Intermittent Administrative Special  ARKADELPHIA   \n",
       "3   Carla RAIRDON                 Workforce Specialist  ARKADELPHIA   \n",
       "4  Gwendolyn TANK                 Workforce Specialist  ARKADELPHIA   \n",
       "\n",
       "   OfficeNumber           Section     Telephone                        Email  \n",
       "0           290  Arkadelphia TANF  870-245-1446  tonya.campbell@arkansas.gov  \n",
       "1           290           ES/DVOP  870-245-1440  cynthia.farmer@arkansas.gov  \n",
       "2           290              TANF  870-245-1447    debbie.payne@arkansas.gov  \n",
       "3           290    Arkadelphia UI  870-245-1445   carla.rairdon@arkansas.gov  \n",
       "4           290       Arkadelphia  870-245-1444  gwendolyn.tank@arkansas.gov  "
      ]
     },
     "execution_count": 104,
     "metadata": {},
     "output_type": "execute_result"
    }
   ],
   "source": [
    "wfs = pd.read_csv('c:\\\\Users\\\\nnagaraj\\\\Desktop\\\\WFS_Master.csv')\n",
    "wfs.head()"
   ]
  },
  {
   "cell_type": "code",
   "execution_count": 105,
   "metadata": {},
   "outputs": [
    {
     "data": {
      "text/plain": [
       "'\\ndf.set_index(\\'ids\\').filter(like=\\'ball\\', axis=0)\\ntanf = wfs[wfs[\\'Section\\'].str.contains(\"TANF\")]\\ndf.set_index(\\'ids\\').filter(regex=\\'^ball\\', axis=0) ## Entries start with ball\\ndf.set_index(\\'ids\\').filter(regex=\\'ball$\\', axis=0) ## Entries end with ball                                       \\ndf[df[\\'model\\'].str.match(\\'Mac\\')]  ## Entries Start with Mac \\n'"
      ]
     },
     "execution_count": 105,
     "metadata": {},
     "output_type": "execute_result"
    }
   ],
   "source": [
    "'''\n",
    "df.set_index('ids').filter(like='ball', axis=0)\n",
    "tanf = wfs[wfs['Section'].str.contains(\"TANF\")]\n",
    "df.set_index('ids').filter(regex='^ball', axis=0) ## Entries start with ball\n",
    "df.set_index('ids').filter(regex='ball$', axis=0) ## Entries end with ball                                       \n",
    "df[df['model'].str.match('Mac')]  ## Entries Start with Mac \n",
    "'''"
   ]
  },
  {
   "cell_type": "code",
   "execution_count": 106,
   "metadata": {},
   "outputs": [
    {
     "data": {
      "text/plain": [
       "Position\n",
       "Admin Specialist III                     1\n",
       "Administrative Analyst                   1\n",
       "Administrative Assistant                 1\n",
       "Administrative Specialist                7\n",
       "Administrative Specialist 1              1\n",
       "Administrative Specialist I              4\n",
       "Administrative Specialist II             2\n",
       "DWS Program Supervisor                   3\n",
       "DWS Workforce Specialist                 1\n",
       "Intermitt Administrative Specialist      1\n",
       "Intermittent Admin Specialist            1\n",
       "Intermittent Administrative Special      1\n",
       "Intermittent Workforce Specialist        1\n",
       "Manager                                  1\n",
       "Marketing Specialist                     1\n",
       "Program Supervisor                      15\n",
       "Receptionist                             1\n",
       "TEA/TANF Supervisor                      1\n",
       "Training Instructor                      1\n",
       "Workforce Specialist                   115\n",
       "Workforce Speicialist                    1\n",
       "WorkforceSpecial-Compliance Officer      1\n",
       "dtype: int64"
      ]
     },
     "execution_count": 106,
     "metadata": {},
     "output_type": "execute_result"
    }
   ],
   "source": [
    "tanf_position = (wfs[wfs['Section'].str.contains(\"TANF|WorkPays|Work Pays|TEA\")]).groupby('Position').size()\n",
    "\n",
    "tanf_position\n",
    "#tanf_Position_number = tanf_Position.groupby('Position').size()\n",
    "#tanf_Position_number"
   ]
  },
  {
   "cell_type": "code",
   "execution_count": 107,
   "metadata": {},
   "outputs": [
    {
     "data": {
      "text/plain": [
       "Position\n",
       "Work Experience Coordinator/PROMISE    2\n",
       "dtype: int64"
      ]
     },
     "execution_count": 107,
     "metadata": {},
     "output_type": "execute_result"
    }
   ],
   "source": [
    "promise_position = wfs[wfs['Section'].str.contains(\"PROMISE\")].groupby('Position').size()\n",
    "promise_position"
   ]
  },
  {
   "cell_type": "code",
   "execution_count": 109,
   "metadata": {},
   "outputs": [
    {
     "data": {
      "text/plain": [
       "Position\n",
       "AAS Specialist                    2\n",
       "AAS Writer                        1\n",
       "Adjudication Specialist           5\n",
       "Adjudication Supervisor           1\n",
       "DWS Program Operations Manager    1\n",
       "DWS Satellite Supervisor          1\n",
       "Satellite Office Supervisor       1\n",
       "UI Claim Technician               3\n",
       "Workforce Specialist              9\n",
       "dtype: int64"
      ]
     },
     "execution_count": 109,
     "metadata": {},
     "output_type": "execute_result"
    }
   ],
   "source": [
    "AAS_position = wfs[wfs['Section'].str.contains(\"AAS\")].groupby('Position').size()\n",
    "AAS_position"
   ]
  },
  {
   "cell_type": "code",
   "execution_count": 120,
   "metadata": {},
   "outputs": [
    {
     "data": {
      "text/plain": [
       "Position\n",
       "Administrative Specialist               1\n",
       "Administrative Specialist I             2\n",
       "DVOP                                    3\n",
       "ES Manager                              1\n",
       "Intermittent Workforce Services         1\n",
       "Intermittent Workforce Specialist      17\n",
       "LVER                                    2\n",
       "Manager                                 2\n",
       "Program Monitor                         2\n",
       "Program Supervisor                      8\n",
       "Project Manager                         1\n",
       "RES                                     1\n",
       "RESEA Specialist                        1\n",
       "Reemployment Specialist                 1\n",
       "Resource Room Coordinator               1\n",
       "Training Instructor                     1\n",
       "Training Instructor, RES Specialist     2\n",
       "Workforce Specialist                   65\n",
       "Workforce Specialist Intermittent       1\n",
       "Workforce Specialist-DVOP               1\n",
       "Workforce Specilist                     1\n",
       "dtype: int64"
      ]
     },
     "execution_count": 120,
     "metadata": {},
     "output_type": "execute_result"
    }
   ],
   "source": [
    "ES_position = wfs[wfs['Section'].str.contains(\"ES|DVOP|LVER|Employment Assistance\")].groupby('Position').size()\n",
    "ES_position"
   ]
  },
  {
   "cell_type": "code",
   "execution_count": 116,
   "metadata": {},
   "outputs": [
    {
     "data": {
      "text/plain": [
       "Position\n",
       "CADC    1\n",
       "dtype: int64"
      ]
     },
     "execution_count": 116,
     "metadata": {},
     "output_type": "execute_result"
    }
   ],
   "source": [
    "CADC_position = wfs[wfs['Section'].str.contains(\"CADC\")].groupby('Position').size()\n",
    "CADC_position"
   ]
  },
  {
   "cell_type": "code",
   "execution_count": 117,
   "metadata": {},
   "outputs": [
    {
     "data": {
      "text/plain": [
       "Position\n",
       "DVOP                     3\n",
       "Workforce Specialist    10\n",
       "Workforce Specilist      1\n",
       "dtype: int64"
      ]
     },
     "execution_count": 117,
     "metadata": {},
     "output_type": "execute_result"
    }
   ],
   "source": [
    "DVOP_position = wfs[wfs['Section'].str.contains(\"DVOP\")].groupby('Position').size()\n",
    "DVOP_position"
   ]
  },
  {
   "cell_type": "code",
   "execution_count": 119,
   "metadata": {},
   "outputs": [
    {
     "data": {
      "text/plain": [
       "Position\n",
       "Administrative Specialist I            1\n",
       "Int Field Audit Specialist             1\n",
       "Program Monitor                        4\n",
       "TAA Specialist                         2\n",
       "Training Instructor, RES Specialist    2\n",
       "Workforce Specialist                   8\n",
       "dtype: int64"
      ]
     },
     "execution_count": 119,
     "metadata": {},
     "output_type": "execute_result"
    }
   ],
   "source": [
    "TAA_position = wfs[wfs['Section'].str.contains(\"TAA\")].groupby('Position').size()\n",
    "TAA_position"
   ]
  },
  {
   "cell_type": "code",
   "execution_count": 121,
   "metadata": {},
   "outputs": [
    {
     "data": {
      "text/plain": [
       "Position\n",
       "Program Monitor        1\n",
       "RES                    1\n",
       "RESEA Specialist       1\n",
       "RESEA-Trainer          1\n",
       "Training Instructor    1\n",
       "dtype: int64"
      ]
     },
     "execution_count": 121,
     "metadata": {},
     "output_type": "execute_result"
    }
   ],
   "source": [
    "ReEmploymentServices_position = wfs[wfs['Section'].str.contains(\"RES|RESA|Re-employment Services|Re-Employment Services\")].groupby('Position').size()\n",
    "ReEmploymentServices_position"
   ]
  },
  {
   "cell_type": "code",
   "execution_count": 122,
   "metadata": {},
   "outputs": [
    {
     "data": {
      "text/plain": [
       "Position\n",
       "ADWS UI Investigator         1\n",
       "ADWS Workforce Specialist    1\n",
       "DWS UI Investigator          1\n",
       "Program Administrator        1\n",
       "UI Investigator              3\n",
       "dtype: int64"
      ]
     },
     "execution_count": 122,
     "metadata": {},
     "output_type": "execute_result"
    }
   ],
   "source": [
    "FIRE_position = wfs[wfs['Section'].str.contains(\"FIRE\")].groupby('Position').size()\n",
    "FIRE_position"
   ]
  },
  {
   "cell_type": "code",
   "execution_count": 123,
   "metadata": {},
   "outputs": [
    {
     "data": {
      "text/plain": [
       "Position\n",
       "Reemployment Training Instructor    1\n",
       "dtype: int64"
      ]
     },
     "execution_count": 123,
     "metadata": {},
     "output_type": "execute_result"
    }
   ],
   "source": [
    "RapidResponse_position = wfs[wfs['Section'].str.contains(\"Rapid Response\")].groupby('Position').size()\n",
    "RapidResponse_position"
   ]
  },
  {
   "cell_type": "code",
   "execution_count": 124,
   "metadata": {},
   "outputs": [
    {
     "data": {
      "text/plain": [
       "Position\n",
       "Intermittent Workforce Specialist     7\n",
       "Intermittent Worlkforce Specialist    1\n",
       "Workforce Specialist                  1\n",
       "dtype: int64"
      ]
     },
     "execution_count": 124,
     "metadata": {},
     "output_type": "execute_result"
    }
   ],
   "source": [
    "CRC_position = wfs[wfs['Section'].str.contains(\"CRC\")].groupby('Position').size()\n",
    "CRC_position"
   ]
  },
  {
   "cell_type": "code",
   "execution_count": 125,
   "metadata": {},
   "outputs": [
    {
     "data": {
      "text/plain": [
       "Position\n",
       "Accounting Clerk           1\n",
       "Project Director           1\n",
       "WIOA Youth Case Manager    1\n",
       "dtype: int64"
      ]
     },
     "execution_count": 125,
     "metadata": {},
     "output_type": "execute_result"
    }
   ],
   "source": [
    "WIOA_position = wfs[wfs['Section'].str.contains(\"WIOA\")].groupby('Position').size()\n",
    "WIOA_position"
   ]
  },
  {
   "cell_type": "code",
   "execution_count": 126,
   "metadata": {},
   "outputs": [
    {
     "data": {
      "text/plain": [
       "Position\n",
       "Administrative Specialist    1\n",
       "dtype: int64"
      ]
     },
     "execution_count": 126,
     "metadata": {},
     "output_type": "execute_result"
    }
   ],
   "source": [
    "WOTC_position = wfs[wfs['Section'].str.contains(\"WOTC\")].groupby('Position').size()\n",
    "WOTC_position"
   ]
  },
  {
   "cell_type": "code",
   "execution_count": 127,
   "metadata": {},
   "outputs": [
    {
     "data": {
      "text/plain": [
       "Position\n",
       "Adjudication Specialist               1\n",
       "Admin Specialist                      1\n",
       "Administrative Specialist             1\n",
       "DWS UI Investigator                   1\n",
       "DWS Workforce Specialist              1\n",
       "Division Chief- UI                    1\n",
       "Field Tax Representative              2\n",
       "Intermittent WFS                      1\n",
       "Intermittent Workforce Services       1\n",
       "Intermittent Workforce Specialist    20\n",
       "Internittent Workforce Specialist     1\n",
       "Manager                               2\n",
       "Program Field Audit Specialist        1\n",
       "Program Monitor                       4\n",
       "Program Supervisor                    9\n",
       "Re-employment Specialist              1\n",
       "UI Claims Technician                  1\n",
       "UI Manager                            1\n",
       "UI Supervisor                         1\n",
       "Workforce Specialist                 69\n",
       "Workforce Specialist Intermittent     1\n",
       "dtype: int64"
      ]
     },
     "execution_count": 127,
     "metadata": {},
     "output_type": "execute_result"
    }
   ],
   "source": [
    "UI_position = wfs[wfs['Section'].str.contains(\"UI\")].groupby('Position').size()\n",
    "UI_position"
   ]
  },
  {
   "cell_type": "code",
   "execution_count": 128,
   "metadata": {},
   "outputs": [
    {
     "data": {
      "text/html": [
       "<div>\n",
       "<style scoped>\n",
       "    .dataframe tbody tr th:only-of-type {\n",
       "        vertical-align: middle;\n",
       "    }\n",
       "\n",
       "    .dataframe tbody tr th {\n",
       "        vertical-align: top;\n",
       "    }\n",
       "\n",
       "    .dataframe thead th {\n",
       "        text-align: right;\n",
       "    }\n",
       "</style>\n",
       "<table border=\"1\" class=\"dataframe\">\n",
       "  <thead>\n",
       "    <tr style=\"text-align: right;\">\n",
       "      <th></th>\n",
       "      <th>Name</th>\n",
       "      <th>Position</th>\n",
       "      <th>Location</th>\n",
       "      <th>OfficeNumber</th>\n",
       "      <th>Section</th>\n",
       "      <th>Telephone</th>\n",
       "      <th>Email</th>\n",
       "    </tr>\n",
       "  </thead>\n",
       "  <tbody>\n",
       "    <tr>\n",
       "      <th>0</th>\n",
       "      <td>Tonya CAMPBELL</td>\n",
       "      <td>Workforce Specialist</td>\n",
       "      <td>ARKADELPHIA</td>\n",
       "      <td>290</td>\n",
       "      <td>Arkadelphia TANF</td>\n",
       "      <td>870-245-1446</td>\n",
       "      <td>tonya.campbell@arkansas.gov</td>\n",
       "    </tr>\n",
       "    <tr>\n",
       "      <th>1</th>\n",
       "      <td>Cynthia FARMER</td>\n",
       "      <td>Workforce Specialist</td>\n",
       "      <td>ARKADELPHIA</td>\n",
       "      <td>290</td>\n",
       "      <td>ES/DVOP</td>\n",
       "      <td>870-245-1440</td>\n",
       "      <td>cynthia.farmer@arkansas.gov</td>\n",
       "    </tr>\n",
       "    <tr>\n",
       "      <th>2</th>\n",
       "      <td>Debbie PAYNE</td>\n",
       "      <td>Intermittent Administrative Special</td>\n",
       "      <td>ARKADELPHIA</td>\n",
       "      <td>290</td>\n",
       "      <td>TANF</td>\n",
       "      <td>870-245-1447</td>\n",
       "      <td>debbie.payne@arkansas.gov</td>\n",
       "    </tr>\n",
       "    <tr>\n",
       "      <th>3</th>\n",
       "      <td>Carla RAIRDON</td>\n",
       "      <td>Workforce Specialist</td>\n",
       "      <td>ARKADELPHIA</td>\n",
       "      <td>290</td>\n",
       "      <td>Arkadelphia UI</td>\n",
       "      <td>870-245-1445</td>\n",
       "      <td>carla.rairdon@arkansas.gov</td>\n",
       "    </tr>\n",
       "    <tr>\n",
       "      <th>4</th>\n",
       "      <td>Gwendolyn TANK</td>\n",
       "      <td>Workforce Specialist</td>\n",
       "      <td>ARKADELPHIA</td>\n",
       "      <td>290</td>\n",
       "      <td>Arkadelphia</td>\n",
       "      <td>870-245-1444</td>\n",
       "      <td>gwendolyn.tank@arkansas.gov</td>\n",
       "    </tr>\n",
       "  </tbody>\n",
       "</table>\n",
       "</div>"
      ],
      "text/plain": [
       "             Name                             Position     Location  \\\n",
       "0  Tonya CAMPBELL                 Workforce Specialist  ARKADELPHIA   \n",
       "1  Cynthia FARMER                 Workforce Specialist  ARKADELPHIA   \n",
       "2    Debbie PAYNE  Intermittent Administrative Special  ARKADELPHIA   \n",
       "3   Carla RAIRDON                 Workforce Specialist  ARKADELPHIA   \n",
       "4  Gwendolyn TANK                 Workforce Specialist  ARKADELPHIA   \n",
       "\n",
       "   OfficeNumber           Section     Telephone                        Email  \n",
       "0           290  Arkadelphia TANF  870-245-1446  tonya.campbell@arkansas.gov  \n",
       "1           290           ES/DVOP  870-245-1440  cynthia.farmer@arkansas.gov  \n",
       "2           290              TANF  870-245-1447    debbie.payne@arkansas.gov  \n",
       "3           290    Arkadelphia UI  870-245-1445   carla.rairdon@arkansas.gov  \n",
       "4           290       Arkadelphia  870-245-1444  gwendolyn.tank@arkansas.gov  "
      ]
     },
     "execution_count": 128,
     "metadata": {},
     "output_type": "execute_result"
    }
   ],
   "source": [
    "wfs.head()"
   ]
  },
  {
   "cell_type": "code",
   "execution_count": 135,
   "metadata": {},
   "outputs": [
    {
     "data": {
      "text/plain": [
       "Position\n",
       "ADWS Workforce Specialist              1\n",
       "DWS Workforce Specialist               3\n",
       "Intermittent Workforce Specialist     38\n",
       "Internittent Workforce Specialist      1\n",
       "Workforce Specialist                 241\n",
       "Workforce Specialist Intermittent      1\n",
       "Workforce Specialist-DVOP              1\n",
       "dtype: int64"
      ]
     },
     "execution_count": 135,
     "metadata": {},
     "output_type": "execute_result"
    }
   ],
   "source": [
    "workforce_specialist = wfs[wfs['Position'].str.contains(\"Workforce Specialist\")].groupby('Position').size()\n",
    "workforce_specialist\n",
    "#UI_position = wfs[wfs['Section'].str.contains(\"UI\")].groupby('Position').size()\n",
    "#UI_position"
   ]
  },
  {
   "cell_type": "code",
   "execution_count": 137,
   "metadata": {},
   "outputs": [
    {
     "data": {
      "text/plain": [
       "Position\n",
       "Accounting Technician                1\n",
       "DWS UI Investigator                  2\n",
       "DWS Workforce Specialist             1\n",
       "Field Audit Supervisor               1\n",
       "Field Tax Representative             4\n",
       "Intermittent Admin Specialist        1\n",
       "Intermittent Workforce Specialist    1\n",
       "Program/Field Auditor Supervisor     1\n",
       "UI Claims Technician                 1\n",
       "UI Investigator                      1\n",
       "Workforce Specialist                 1\n",
       "dtype: int64"
      ]
     },
     "execution_count": 137,
     "metadata": {},
     "output_type": "execute_result"
    }
   ],
   "source": [
    "unaccounted_section = wfs[wfs['Section'].str.contains(\"ALL|all|Field Audit|Benefit Accuracy Measurement|Field Operations|Contributions|Department of Workforce|Front Desk|BAM\")].groupby('Position').size()\n",
    "unaccounted_section"
   ]
  },
  {
   "cell_type": "code",
   "execution_count": null,
   "metadata": {},
   "outputs": [],
   "source": []
  }
 ],
 "metadata": {
  "kernelspec": {
   "display_name": "Python 3",
   "language": "python",
   "name": "python3"
  },
  "language_info": {
   "codemirror_mode": {
    "name": "ipython",
    "version": 3
   },
   "file_extension": ".py",
   "mimetype": "text/x-python",
   "name": "python",
   "nbconvert_exporter": "python",
   "pygments_lexer": "ipython3",
   "version": "3.6.4rc1"
  }
 },
 "nbformat": 4,
 "nbformat_minor": 2
}
